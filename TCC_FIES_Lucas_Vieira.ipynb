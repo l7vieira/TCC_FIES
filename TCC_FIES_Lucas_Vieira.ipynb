{
  "nbformat": 4,
  "nbformat_minor": 0,
  "metadata": {
    "colab": {
      "provenance": [],
      "collapsed_sections": [
        "gT2IKseuuXki"
      ]
    },
    "kernelspec": {
      "name": "python3",
      "display_name": "Python 3"
    },
    "language_info": {
      "name": "python"
    }
  },
  "cells": [
    {
      "cell_type": "markdown",
      "source": [
        "# **PUC MINAS**\n",
        "\n",
        "---\n",
        "\n",
        "\n",
        "\n",
        "# **TCC - PÓS GRADUAÇÃO EM CIÊNCIA DE DADOS E BIG DATA**\n",
        "\n",
        "---\n",
        "\n",
        "\n",
        "\n",
        "# **PREDIÇÃO DE APROVAÇÃO DO FIES COM NOTAS DO ENEM E IDHM**\n",
        "\n",
        "---\n",
        "\n",
        "\n",
        "\n",
        "# **LUCAS SEVERIANO VIEIRA**"
      ],
      "metadata": {
        "id": "aR9ofQt8uJTJ"
      }
    },
    {
      "cell_type": "markdown",
      "source": [
        "#Bibliotecas/Constantes"
      ],
      "metadata": {
        "id": "gT2IKseuuXki"
      }
    },
    {
      "cell_type": "code",
      "execution_count": 318,
      "metadata": {
        "id": "k8-V-pMQQ7FF"
      },
      "outputs": [],
      "source": [
        "# Import\n",
        "\n",
        "import pandas as pd\n",
        "import numpy as np\n",
        "import matplotlib.pyplot as plt\n",
        "import seaborn as sns\n",
        " \n",
        "# ML\n",
        "\n",
        "from sklearn import metrics\n",
        "from sklearn.preprocessing import LabelEncoder\n",
        "from sklearn.utils import resample\n",
        "from sklearn.metrics import classification_report, confusion_matrix, roc_curve, roc_auc_score\n",
        "from sklearn.model_selection import train_test_split\n",
        "from sklearn.linear_model import LogisticRegression\n",
        "from sklearn.ensemble import RandomForestClassifier\n",
        "from sklearn.tree import DecisionTreeClassifier"
      ]
    },
    {
      "cell_type": "code",
      "source": [
        "# Função para montagem gráficos\n",
        "\n",
        "def plot_chart(desired_variable, df, order, title=None, xlabel=None, ylabel=None,\n",
        "               hue=None, ax=None):\n",
        "    sns.countplot(y=desired_variable,\n",
        "                  hue=hue,\n",
        "                  data=df,\n",
        "                  palette='rocket',\n",
        "                  order=order,\n",
        "                  ax=ax).set_title(title)\n",
        "    plt.xlabel(xlabel=xlabel)\n",
        "    plt.ylabel(ylabel=ylabel)\n",
        "    plt.grid(axis='x', linestyle='--')\n",
        "    plt.minorticks_on()"
      ],
      "metadata": {
        "id": "Nl2b4MqN9nbR"
      },
      "execution_count": 319,
      "outputs": []
    },
    {
      "cell_type": "code",
      "source": [
        "# Função para retirar acentos\n",
        "\n",
        "def corrigir_nomes(nome):\n",
        "    nome = nome.replace('¿', \"'\").replace('Ç', 'C').replace('Ã', 'A').replace('Õ', 'O').replace('Â', 'A').replace('Ê', 'E').replace('Ô', 'O').replace('Á', 'A').replace('É', 'E').replace('Í', 'I').replace('Ó', 'O').replace('Ú', 'U')\n",
        "    return nome"
      ],
      "metadata": {
        "id": "Xoae-A5-gsaC"
      },
      "execution_count": 320,
      "outputs": []
    },
    {
      "cell_type": "markdown",
      "source": [
        "#Carga e tratamento dos dados"
      ],
      "metadata": {
        "id": "UwDuv3tpt1PL"
      }
    },
    {
      "cell_type": "code",
      "source": [
        "# Carga dos dados - FIES\n",
        "\n",
        "df_fies = pd.read_csv('relatorio_inscricao_dados_abertos_fies_22021.csv', encoding=\"ISO-8859-1\", sep = ';')\n",
        "df_fies.shape"
      ],
      "metadata": {
        "colab": {
          "base_uri": "https://localhost:8080/"
        },
        "id": "u35Yc0qEfNGr",
        "outputId": "2a620ca2-1d19-46a0-f04e-39539b25b3a8"
      },
      "execution_count": 321,
      "outputs": [
        {
          "output_type": "execute_result",
          "data": {
            "text/plain": [
              "(237965, 57)"
            ]
          },
          "metadata": {},
          "execution_count": 321
        }
      ]
    },
    {
      "cell_type": "code",
      "source": [
        "# Carga dos dados - Cidades\n",
        "\n",
        "df_cidades = pd.read_excel('Cities_Brazil_IBGE.xlsx')\n",
        "df_cidades.shape"
      ],
      "metadata": {
        "colab": {
          "base_uri": "https://localhost:8080/"
        },
        "id": "al_n52ebtkuS",
        "outputId": "adc86ef0-56c7-40e7-f123-4f0af9406dd0"
      },
      "execution_count": 322,
      "outputs": [
        {
          "output_type": "execute_result",
          "data": {
            "text/plain": [
              "(5570, 14)"
            ]
          },
          "metadata": {},
          "execution_count": 322
        }
      ]
    },
    {
      "cell_type": "code",
      "source": [
        "# Leitura dos dados - FIES\n",
        "\n",
        "df_fies.head()"
      ],
      "metadata": {
        "colab": {
          "base_uri": "https://localhost:8080/",
          "height": 0
        },
        "id": "21GBP4bBF5wX",
        "outputId": "6bbffb2e-9ee6-4c24-f505-4d3774bf9b6d"
      },
      "execution_count": 323,
      "outputs": [
        {
          "output_type": "execute_result",
          "data": {
            "text/plain": [
              "   Ano do processo seletivo  Semestre do processo seletivo  ID do estudante  \\\n",
              "0                      2021                              2        281805657   \n",
              "1                      2021                              2        281805657   \n",
              "2                      2021                              2        351067941   \n",
              "3                      2021                              2        205906170   \n",
              "4                      2021                              2        351067085   \n",
              "\n",
              "  Sexo Data de Nascimento UF de residência Municipio de residência Etnia/Cor  \\\n",
              "0    M           15/05/00               PR                 COLOMBO     PARDA   \n",
              "1    M           15/05/00               PR                 COLOMBO     PARDA   \n",
              "2    M           10/07/94               PR                CURITIBA    BRANCA   \n",
              "3    M           25/09/89               PR                CURITIBA    BRANCA   \n",
              "4    F           20/07/99               PR               PARANAGUÁ    BRANCA   \n",
              "\n",
              "  Pessoa com deficiência? Tipo de escola no ensino médio  ...  Ano do Enem  \\\n",
              "0                     NÃO                            SIM  ...         2020   \n",
              "1                     NÃO                            SIM  ...         2020   \n",
              "2                     NÃO                            NÃO  ...         2011   \n",
              "3                     NÃO                            SIM  ...         2020   \n",
              "4                     NÃO                            SIM  ...         2017   \n",
              "\n",
              "  Redação Matemática e suas Tecnologias  Linguagens, Códigos e suas Tec  \\\n",
              "0     640                         675,4                           643,2   \n",
              "1     640                         675,4                           643,2   \n",
              "2     900                         758,1                           646,9   \n",
              "3     540                         609,8                           610,7   \n",
              "4     680                         408,6                           499,8   \n",
              "\n",
              "  Ciências Natureza e suas Tec Ciências Humanas e suas Tec  \\\n",
              "0                        539,7                       622,2   \n",
              "1                        539,7                       622,2   \n",
              "2                        598,4                       605,7   \n",
              "3                          586                       646,2   \n",
              "4                        484,5                       487,9   \n",
              "\n",
              "                 Situação Inscrição Fies Percentual de financiamento  \\\n",
              "0                         NÃO CONTRATADO                         NaN   \n",
              "1                         NÃO CONTRATADO                         NaN   \n",
              "2  PARTICIPACAO CANCELADA PELO CANDIDATO                         NaN   \n",
              "3                   OPÇÃO NÃO CONTRATADA                         NaN   \n",
              "4                         NÃO CONTRATADO                         NaN   \n",
              "\n",
              "   Semestre do financiamento Qtde semestre financiado  \n",
              "0                                                 NaN  \n",
              "1                                                 NaN  \n",
              "2                                                 NaN  \n",
              "3                        NaN                     10.0  \n",
              "4                                                 NaN  \n",
              "\n",
              "[5 rows x 57 columns]"
            ],
            "text/html": [
              "\n",
              "  <div id=\"df-1fe96061-7385-49f8-881d-6d208c0359de\">\n",
              "    <div class=\"colab-df-container\">\n",
              "      <div>\n",
              "<style scoped>\n",
              "    .dataframe tbody tr th:only-of-type {\n",
              "        vertical-align: middle;\n",
              "    }\n",
              "\n",
              "    .dataframe tbody tr th {\n",
              "        vertical-align: top;\n",
              "    }\n",
              "\n",
              "    .dataframe thead th {\n",
              "        text-align: right;\n",
              "    }\n",
              "</style>\n",
              "<table border=\"1\" class=\"dataframe\">\n",
              "  <thead>\n",
              "    <tr style=\"text-align: right;\">\n",
              "      <th></th>\n",
              "      <th>Ano do processo seletivo</th>\n",
              "      <th>Semestre do processo seletivo</th>\n",
              "      <th>ID do estudante</th>\n",
              "      <th>Sexo</th>\n",
              "      <th>Data de Nascimento</th>\n",
              "      <th>UF de residência</th>\n",
              "      <th>Municipio de residência</th>\n",
              "      <th>Etnia/Cor</th>\n",
              "      <th>Pessoa com deficiência?</th>\n",
              "      <th>Tipo de escola no ensino médio</th>\n",
              "      <th>...</th>\n",
              "      <th>Ano do Enem</th>\n",
              "      <th>Redação</th>\n",
              "      <th>Matemática e suas Tecnologias</th>\n",
              "      <th>Linguagens, Códigos e suas Tec</th>\n",
              "      <th>Ciências Natureza e suas Tec</th>\n",
              "      <th>Ciências Humanas e suas Tec</th>\n",
              "      <th>Situação Inscrição Fies</th>\n",
              "      <th>Percentual de financiamento</th>\n",
              "      <th>Semestre do financiamento</th>\n",
              "      <th>Qtde semestre financiado</th>\n",
              "    </tr>\n",
              "  </thead>\n",
              "  <tbody>\n",
              "    <tr>\n",
              "      <th>0</th>\n",
              "      <td>2021</td>\n",
              "      <td>2</td>\n",
              "      <td>281805657</td>\n",
              "      <td>M</td>\n",
              "      <td>15/05/00</td>\n",
              "      <td>PR</td>\n",
              "      <td>COLOMBO</td>\n",
              "      <td>PARDA</td>\n",
              "      <td>NÃO</td>\n",
              "      <td>SIM</td>\n",
              "      <td>...</td>\n",
              "      <td>2020</td>\n",
              "      <td>640</td>\n",
              "      <td>675,4</td>\n",
              "      <td>643,2</td>\n",
              "      <td>539,7</td>\n",
              "      <td>622,2</td>\n",
              "      <td>NÃO CONTRATADO</td>\n",
              "      <td>NaN</td>\n",
              "      <td></td>\n",
              "      <td>NaN</td>\n",
              "    </tr>\n",
              "    <tr>\n",
              "      <th>1</th>\n",
              "      <td>2021</td>\n",
              "      <td>2</td>\n",
              "      <td>281805657</td>\n",
              "      <td>M</td>\n",
              "      <td>15/05/00</td>\n",
              "      <td>PR</td>\n",
              "      <td>COLOMBO</td>\n",
              "      <td>PARDA</td>\n",
              "      <td>NÃO</td>\n",
              "      <td>SIM</td>\n",
              "      <td>...</td>\n",
              "      <td>2020</td>\n",
              "      <td>640</td>\n",
              "      <td>675,4</td>\n",
              "      <td>643,2</td>\n",
              "      <td>539,7</td>\n",
              "      <td>622,2</td>\n",
              "      <td>NÃO CONTRATADO</td>\n",
              "      <td>NaN</td>\n",
              "      <td></td>\n",
              "      <td>NaN</td>\n",
              "    </tr>\n",
              "    <tr>\n",
              "      <th>2</th>\n",
              "      <td>2021</td>\n",
              "      <td>2</td>\n",
              "      <td>351067941</td>\n",
              "      <td>M</td>\n",
              "      <td>10/07/94</td>\n",
              "      <td>PR</td>\n",
              "      <td>CURITIBA</td>\n",
              "      <td>BRANCA</td>\n",
              "      <td>NÃO</td>\n",
              "      <td>NÃO</td>\n",
              "      <td>...</td>\n",
              "      <td>2011</td>\n",
              "      <td>900</td>\n",
              "      <td>758,1</td>\n",
              "      <td>646,9</td>\n",
              "      <td>598,4</td>\n",
              "      <td>605,7</td>\n",
              "      <td>PARTICIPACAO CANCELADA PELO CANDIDATO</td>\n",
              "      <td>NaN</td>\n",
              "      <td></td>\n",
              "      <td>NaN</td>\n",
              "    </tr>\n",
              "    <tr>\n",
              "      <th>3</th>\n",
              "      <td>2021</td>\n",
              "      <td>2</td>\n",
              "      <td>205906170</td>\n",
              "      <td>M</td>\n",
              "      <td>25/09/89</td>\n",
              "      <td>PR</td>\n",
              "      <td>CURITIBA</td>\n",
              "      <td>BRANCA</td>\n",
              "      <td>NÃO</td>\n",
              "      <td>SIM</td>\n",
              "      <td>...</td>\n",
              "      <td>2020</td>\n",
              "      <td>540</td>\n",
              "      <td>609,8</td>\n",
              "      <td>610,7</td>\n",
              "      <td>586</td>\n",
              "      <td>646,2</td>\n",
              "      <td>OPÇÃO NÃO CONTRATADA</td>\n",
              "      <td>NaN</td>\n",
              "      <td>NaN</td>\n",
              "      <td>10.0</td>\n",
              "    </tr>\n",
              "    <tr>\n",
              "      <th>4</th>\n",
              "      <td>2021</td>\n",
              "      <td>2</td>\n",
              "      <td>351067085</td>\n",
              "      <td>F</td>\n",
              "      <td>20/07/99</td>\n",
              "      <td>PR</td>\n",
              "      <td>PARANAGUÁ</td>\n",
              "      <td>BRANCA</td>\n",
              "      <td>NÃO</td>\n",
              "      <td>SIM</td>\n",
              "      <td>...</td>\n",
              "      <td>2017</td>\n",
              "      <td>680</td>\n",
              "      <td>408,6</td>\n",
              "      <td>499,8</td>\n",
              "      <td>484,5</td>\n",
              "      <td>487,9</td>\n",
              "      <td>NÃO CONTRATADO</td>\n",
              "      <td>NaN</td>\n",
              "      <td></td>\n",
              "      <td>NaN</td>\n",
              "    </tr>\n",
              "  </tbody>\n",
              "</table>\n",
              "<p>5 rows × 57 columns</p>\n",
              "</div>\n",
              "      <button class=\"colab-df-convert\" onclick=\"convertToInteractive('df-1fe96061-7385-49f8-881d-6d208c0359de')\"\n",
              "              title=\"Convert this dataframe to an interactive table.\"\n",
              "              style=\"display:none;\">\n",
              "        \n",
              "  <svg xmlns=\"http://www.w3.org/2000/svg\" height=\"24px\"viewBox=\"0 0 24 24\"\n",
              "       width=\"24px\">\n",
              "    <path d=\"M0 0h24v24H0V0z\" fill=\"none\"/>\n",
              "    <path d=\"M18.56 5.44l.94 2.06.94-2.06 2.06-.94-2.06-.94-.94-2.06-.94 2.06-2.06.94zm-11 1L8.5 8.5l.94-2.06 2.06-.94-2.06-.94L8.5 2.5l-.94 2.06-2.06.94zm10 10l.94 2.06.94-2.06 2.06-.94-2.06-.94-.94-2.06-.94 2.06-2.06.94z\"/><path d=\"M17.41 7.96l-1.37-1.37c-.4-.4-.92-.59-1.43-.59-.52 0-1.04.2-1.43.59L10.3 9.45l-7.72 7.72c-.78.78-.78 2.05 0 2.83L4 21.41c.39.39.9.59 1.41.59.51 0 1.02-.2 1.41-.59l7.78-7.78 2.81-2.81c.8-.78.8-2.07 0-2.86zM5.41 20L4 18.59l7.72-7.72 1.47 1.35L5.41 20z\"/>\n",
              "  </svg>\n",
              "      </button>\n",
              "      \n",
              "  <style>\n",
              "    .colab-df-container {\n",
              "      display:flex;\n",
              "      flex-wrap:wrap;\n",
              "      gap: 12px;\n",
              "    }\n",
              "\n",
              "    .colab-df-convert {\n",
              "      background-color: #E8F0FE;\n",
              "      border: none;\n",
              "      border-radius: 50%;\n",
              "      cursor: pointer;\n",
              "      display: none;\n",
              "      fill: #1967D2;\n",
              "      height: 32px;\n",
              "      padding: 0 0 0 0;\n",
              "      width: 32px;\n",
              "    }\n",
              "\n",
              "    .colab-df-convert:hover {\n",
              "      background-color: #E2EBFA;\n",
              "      box-shadow: 0px 1px 2px rgba(60, 64, 67, 0.3), 0px 1px 3px 1px rgba(60, 64, 67, 0.15);\n",
              "      fill: #174EA6;\n",
              "    }\n",
              "\n",
              "    [theme=dark] .colab-df-convert {\n",
              "      background-color: #3B4455;\n",
              "      fill: #D2E3FC;\n",
              "    }\n",
              "\n",
              "    [theme=dark] .colab-df-convert:hover {\n",
              "      background-color: #434B5C;\n",
              "      box-shadow: 0px 1px 3px 1px rgba(0, 0, 0, 0.15);\n",
              "      filter: drop-shadow(0px 1px 2px rgba(0, 0, 0, 0.3));\n",
              "      fill: #FFFFFF;\n",
              "    }\n",
              "  </style>\n",
              "\n",
              "      <script>\n",
              "        const buttonEl =\n",
              "          document.querySelector('#df-1fe96061-7385-49f8-881d-6d208c0359de button.colab-df-convert');\n",
              "        buttonEl.style.display =\n",
              "          google.colab.kernel.accessAllowed ? 'block' : 'none';\n",
              "\n",
              "        async function convertToInteractive(key) {\n",
              "          const element = document.querySelector('#df-1fe96061-7385-49f8-881d-6d208c0359de');\n",
              "          const dataTable =\n",
              "            await google.colab.kernel.invokeFunction('convertToInteractive',\n",
              "                                                     [key], {});\n",
              "          if (!dataTable) return;\n",
              "\n",
              "          const docLinkHtml = 'Like what you see? Visit the ' +\n",
              "            '<a target=\"_blank\" href=https://colab.research.google.com/notebooks/data_table.ipynb>data table notebook</a>'\n",
              "            + ' to learn more about interactive tables.';\n",
              "          element.innerHTML = '';\n",
              "          dataTable['output_type'] = 'display_data';\n",
              "          await google.colab.output.renderOutput(dataTable, element);\n",
              "          const docLink = document.createElement('div');\n",
              "          docLink.innerHTML = docLinkHtml;\n",
              "          element.appendChild(docLink);\n",
              "        }\n",
              "      </script>\n",
              "    </div>\n",
              "  </div>\n",
              "  "
            ]
          },
          "metadata": {},
          "execution_count": 323
        }
      ]
    },
    {
      "cell_type": "code",
      "source": [
        "# Leitura dos dados - Cidades\n",
        "\n",
        "df_cidades.head()"
      ],
      "metadata": {
        "colab": {
          "base_uri": "https://localhost:8080/",
          "height": 0
        },
        "id": "QGEgGGZRvePf",
        "outputId": "d096bfe2-988c-401c-a700-3054fb2fa4ad"
      },
      "execution_count": 324,
      "outputs": [
        {
          "output_type": "execute_result",
          "data": {
            "text/plain": [
              "   IBGECode            LocalCidade LocalUF LocalEstado RegiaoBrasil Latitude  \\\n",
              "0   1100015  ALTA FLORESTA D'OESTE      RO    Rondonia            N  -119283   \n",
              "1   1100023              ARIQUEMES      RO    Rondonia            N  -990571   \n",
              "2   1100031                 CABIXI      RO    Rondonia            N  -134945   \n",
              "3   1100049                 CACOAL      RO    Rondonia            N  -114343   \n",
              "4   1100056             CEREJEIRAS      RO    Rondonia            N   -13187   \n",
              "\n",
              "  Longitude       Gentilico  PopEstimada_2018  PopCenso 2010   IDHM  \\\n",
              "0   -619953  alta-florense              23167          24392  0,641   \n",
              "1   -630325    ariquemense             106168          90353  0,702   \n",
              "2    -60552     cabixiense               5438           6313   0,65   \n",
              "3   -614562     cacoalense              84813          78574  0,718   \n",
              "4   -608168   cerejeirense              16444          17029  0,692   \n",
              "\n",
              "   ReceitasRealizadas_2014  DespesasEmpenhadas_2014  Pib_2014  \n",
              "0                    53490                    47577  16461,11  \n",
              "1                        0                        0  19401,43  \n",
              "2                    22635                    19354  18346,17  \n",
              "3                   169636                   155473  20725,23  \n",
              "4                    53147                    46774  22179,17  "
            ],
            "text/html": [
              "\n",
              "  <div id=\"df-e1cf4b1f-4ceb-45c8-a0d4-2d83ae6aa47d\">\n",
              "    <div class=\"colab-df-container\">\n",
              "      <div>\n",
              "<style scoped>\n",
              "    .dataframe tbody tr th:only-of-type {\n",
              "        vertical-align: middle;\n",
              "    }\n",
              "\n",
              "    .dataframe tbody tr th {\n",
              "        vertical-align: top;\n",
              "    }\n",
              "\n",
              "    .dataframe thead th {\n",
              "        text-align: right;\n",
              "    }\n",
              "</style>\n",
              "<table border=\"1\" class=\"dataframe\">\n",
              "  <thead>\n",
              "    <tr style=\"text-align: right;\">\n",
              "      <th></th>\n",
              "      <th>IBGECode</th>\n",
              "      <th>LocalCidade</th>\n",
              "      <th>LocalUF</th>\n",
              "      <th>LocalEstado</th>\n",
              "      <th>RegiaoBrasil</th>\n",
              "      <th>Latitude</th>\n",
              "      <th>Longitude</th>\n",
              "      <th>Gentilico</th>\n",
              "      <th>PopEstimada_2018</th>\n",
              "      <th>PopCenso 2010</th>\n",
              "      <th>IDHM</th>\n",
              "      <th>ReceitasRealizadas_2014</th>\n",
              "      <th>DespesasEmpenhadas_2014</th>\n",
              "      <th>Pib_2014</th>\n",
              "    </tr>\n",
              "  </thead>\n",
              "  <tbody>\n",
              "    <tr>\n",
              "      <th>0</th>\n",
              "      <td>1100015</td>\n",
              "      <td>ALTA FLORESTA D'OESTE</td>\n",
              "      <td>RO</td>\n",
              "      <td>Rondonia</td>\n",
              "      <td>N</td>\n",
              "      <td>-119283</td>\n",
              "      <td>-619953</td>\n",
              "      <td>alta-florense</td>\n",
              "      <td>23167</td>\n",
              "      <td>24392</td>\n",
              "      <td>0,641</td>\n",
              "      <td>53490</td>\n",
              "      <td>47577</td>\n",
              "      <td>16461,11</td>\n",
              "    </tr>\n",
              "    <tr>\n",
              "      <th>1</th>\n",
              "      <td>1100023</td>\n",
              "      <td>ARIQUEMES</td>\n",
              "      <td>RO</td>\n",
              "      <td>Rondonia</td>\n",
              "      <td>N</td>\n",
              "      <td>-990571</td>\n",
              "      <td>-630325</td>\n",
              "      <td>ariquemense</td>\n",
              "      <td>106168</td>\n",
              "      <td>90353</td>\n",
              "      <td>0,702</td>\n",
              "      <td>0</td>\n",
              "      <td>0</td>\n",
              "      <td>19401,43</td>\n",
              "    </tr>\n",
              "    <tr>\n",
              "      <th>2</th>\n",
              "      <td>1100031</td>\n",
              "      <td>CABIXI</td>\n",
              "      <td>RO</td>\n",
              "      <td>Rondonia</td>\n",
              "      <td>N</td>\n",
              "      <td>-134945</td>\n",
              "      <td>-60552</td>\n",
              "      <td>cabixiense</td>\n",
              "      <td>5438</td>\n",
              "      <td>6313</td>\n",
              "      <td>0,65</td>\n",
              "      <td>22635</td>\n",
              "      <td>19354</td>\n",
              "      <td>18346,17</td>\n",
              "    </tr>\n",
              "    <tr>\n",
              "      <th>3</th>\n",
              "      <td>1100049</td>\n",
              "      <td>CACOAL</td>\n",
              "      <td>RO</td>\n",
              "      <td>Rondonia</td>\n",
              "      <td>N</td>\n",
              "      <td>-114343</td>\n",
              "      <td>-614562</td>\n",
              "      <td>cacoalense</td>\n",
              "      <td>84813</td>\n",
              "      <td>78574</td>\n",
              "      <td>0,718</td>\n",
              "      <td>169636</td>\n",
              "      <td>155473</td>\n",
              "      <td>20725,23</td>\n",
              "    </tr>\n",
              "    <tr>\n",
              "      <th>4</th>\n",
              "      <td>1100056</td>\n",
              "      <td>CEREJEIRAS</td>\n",
              "      <td>RO</td>\n",
              "      <td>Rondonia</td>\n",
              "      <td>N</td>\n",
              "      <td>-13187</td>\n",
              "      <td>-608168</td>\n",
              "      <td>cerejeirense</td>\n",
              "      <td>16444</td>\n",
              "      <td>17029</td>\n",
              "      <td>0,692</td>\n",
              "      <td>53147</td>\n",
              "      <td>46774</td>\n",
              "      <td>22179,17</td>\n",
              "    </tr>\n",
              "  </tbody>\n",
              "</table>\n",
              "</div>\n",
              "      <button class=\"colab-df-convert\" onclick=\"convertToInteractive('df-e1cf4b1f-4ceb-45c8-a0d4-2d83ae6aa47d')\"\n",
              "              title=\"Convert this dataframe to an interactive table.\"\n",
              "              style=\"display:none;\">\n",
              "        \n",
              "  <svg xmlns=\"http://www.w3.org/2000/svg\" height=\"24px\"viewBox=\"0 0 24 24\"\n",
              "       width=\"24px\">\n",
              "    <path d=\"M0 0h24v24H0V0z\" fill=\"none\"/>\n",
              "    <path d=\"M18.56 5.44l.94 2.06.94-2.06 2.06-.94-2.06-.94-.94-2.06-.94 2.06-2.06.94zm-11 1L8.5 8.5l.94-2.06 2.06-.94-2.06-.94L8.5 2.5l-.94 2.06-2.06.94zm10 10l.94 2.06.94-2.06 2.06-.94-2.06-.94-.94-2.06-.94 2.06-2.06.94z\"/><path d=\"M17.41 7.96l-1.37-1.37c-.4-.4-.92-.59-1.43-.59-.52 0-1.04.2-1.43.59L10.3 9.45l-7.72 7.72c-.78.78-.78 2.05 0 2.83L4 21.41c.39.39.9.59 1.41.59.51 0 1.02-.2 1.41-.59l7.78-7.78 2.81-2.81c.8-.78.8-2.07 0-2.86zM5.41 20L4 18.59l7.72-7.72 1.47 1.35L5.41 20z\"/>\n",
              "  </svg>\n",
              "      </button>\n",
              "      \n",
              "  <style>\n",
              "    .colab-df-container {\n",
              "      display:flex;\n",
              "      flex-wrap:wrap;\n",
              "      gap: 12px;\n",
              "    }\n",
              "\n",
              "    .colab-df-convert {\n",
              "      background-color: #E8F0FE;\n",
              "      border: none;\n",
              "      border-radius: 50%;\n",
              "      cursor: pointer;\n",
              "      display: none;\n",
              "      fill: #1967D2;\n",
              "      height: 32px;\n",
              "      padding: 0 0 0 0;\n",
              "      width: 32px;\n",
              "    }\n",
              "\n",
              "    .colab-df-convert:hover {\n",
              "      background-color: #E2EBFA;\n",
              "      box-shadow: 0px 1px 2px rgba(60, 64, 67, 0.3), 0px 1px 3px 1px rgba(60, 64, 67, 0.15);\n",
              "      fill: #174EA6;\n",
              "    }\n",
              "\n",
              "    [theme=dark] .colab-df-convert {\n",
              "      background-color: #3B4455;\n",
              "      fill: #D2E3FC;\n",
              "    }\n",
              "\n",
              "    [theme=dark] .colab-df-convert:hover {\n",
              "      background-color: #434B5C;\n",
              "      box-shadow: 0px 1px 3px 1px rgba(0, 0, 0, 0.15);\n",
              "      filter: drop-shadow(0px 1px 2px rgba(0, 0, 0, 0.3));\n",
              "      fill: #FFFFFF;\n",
              "    }\n",
              "  </style>\n",
              "\n",
              "      <script>\n",
              "        const buttonEl =\n",
              "          document.querySelector('#df-e1cf4b1f-4ceb-45c8-a0d4-2d83ae6aa47d button.colab-df-convert');\n",
              "        buttonEl.style.display =\n",
              "          google.colab.kernel.accessAllowed ? 'block' : 'none';\n",
              "\n",
              "        async function convertToInteractive(key) {\n",
              "          const element = document.querySelector('#df-e1cf4b1f-4ceb-45c8-a0d4-2d83ae6aa47d');\n",
              "          const dataTable =\n",
              "            await google.colab.kernel.invokeFunction('convertToInteractive',\n",
              "                                                     [key], {});\n",
              "          if (!dataTable) return;\n",
              "\n",
              "          const docLinkHtml = 'Like what you see? Visit the ' +\n",
              "            '<a target=\"_blank\" href=https://colab.research.google.com/notebooks/data_table.ipynb>data table notebook</a>'\n",
              "            + ' to learn more about interactive tables.';\n",
              "          element.innerHTML = '';\n",
              "          dataTable['output_type'] = 'display_data';\n",
              "          await google.colab.output.renderOutput(dataTable, element);\n",
              "          const docLink = document.createElement('div');\n",
              "          docLink.innerHTML = docLinkHtml;\n",
              "          element.appendChild(docLink);\n",
              "        }\n",
              "      </script>\n",
              "    </div>\n",
              "  </div>\n",
              "  "
            ]
          },
          "metadata": {},
          "execution_count": 324
        }
      ]
    },
    {
      "cell_type": "code",
      "source": [
        "# Ajuste cidades da base do FIES\n",
        "\n",
        "df_fies['Municipio de residência'] = df_fies['Municipio de residência'].apply(corrigir_nomes)\n",
        "\n",
        "df_fies.replace(to_replace = \"EMBU\", value = \"EMBU DAS ARTES\", inplace=True)\n",
        "df_fies.replace(to_replace = \"MOJI MIRIM\", value = \"MOGI MIRIM\", inplace=True)\n",
        "df_fies.replace(to_replace = \"JI-PARANA\", value = \"JI PARANA\", inplace=True)\n",
        "df_fies.replace(to_replace = \"SANTA BARBARA D'OESTE\", value = \"SANTA BARBARA D OESTE\", inplace=True)\n",
        "df_fies.replace(to_replace = \"LIVRAMENTO DE NOSSA SENHORA\", value = \"LIVRAMENTO DO BRUMADO\", inplace=True)\n",
        "df_fies.replace(to_replace = \"GUAJARA-MIRIM\", value = \"GUAJARA MIRIM\", inplace=True)\n",
        "df_fies.replace(to_replace = \"IGARAPE-MIRI\", value = \"IGARAPE-MIRIM\", inplace=True)\n",
        "df_fies.replace(to_replace = \"NOVA BRASILANDIA D'OESTE\", value = \"NOVA BRASILANDIA D OESTE\", inplace=True)\n",
        "df_fies.replace(to_replace = \"ESPIGAO D'OESTE\", value = \"ESPIGAO D OESTE\", inplace=True)\n",
        "df_fies.replace(to_replace = \"PINGO-D'AGUA\", value = \"PINGO D'AGUA\", inplace=True)\n",
        "df_fies.replace(to_replace = \"COLORADO DO OESTE\", value = \"COLORADO D OESTE\", inplace=True)\n",
        "df_fies.replace(to_replace = \"ITABIRINHA\", value = \"ITABIRINHA DE MANTENA\", inplace=True)\n",
        "df_fies.replace(to_replace = \"PEROLA D'OESTE\", value = \"PEROLA D OESTE\", inplace=True)\n",
        "df_fies.replace(to_replace = \"SAO MIGUEL DO GOSTOSO\", value = \"SAO MIGUEL DE TOUROS\", inplace=True)\n",
        "df_fies.replace(to_replace = \"BALNEARIO PICARRAS\", value = \"PICARRAS\", inplace=True)\n",
        "df_fies.replace(to_replace = \"SAO JORGE D'OESTE\", value = \"SAO JORGE D OESTE\", inplace=True)\n",
        "df_fies.replace(to_replace = \"PRESIDENTE CASTELLO BRANCO\", value = \"PRESIDENTE CASTELO BRANCO\", inplace=True)\n",
        "df_fies.replace(to_replace = \"CAMPO DE SANTANA\", value = \"TACIMA\", inplace=True)"
      ],
      "metadata": {
        "id": "UCgES81VUcf4"
      },
      "execution_count": 325,
      "outputs": []
    },
    {
      "cell_type": "code",
      "source": [
        "# Merge dos Datasets\n",
        "\n",
        "df_dados = pd.merge(df_fies, df_cidades,  how='left', left_on=['Municipio de residência','UF de residência'], right_on = ['LocalCidade','LocalUF'])\n",
        "df_dados.shape"
      ],
      "metadata": {
        "colab": {
          "base_uri": "https://localhost:8080/"
        },
        "id": "cRJwxxnwvsG9",
        "outputId": "7c3bfe21-dc8f-4dfd-9a1d-5614d92af052"
      },
      "execution_count": 326,
      "outputs": [
        {
          "output_type": "execute_result",
          "data": {
            "text/plain": [
              "(237965, 71)"
            ]
          },
          "metadata": {},
          "execution_count": 326
        }
      ]
    },
    {
      "cell_type": "code",
      "source": [
        "# Leitura dos dados - Dados agrupados\n",
        "\n",
        "df_dados.head()"
      ],
      "metadata": {
        "colab": {
          "base_uri": "https://localhost:8080/",
          "height": 0
        },
        "id": "Vd0b8JnN0ZQv",
        "outputId": "6d8d4af9-b6dc-4508-b0cf-a4ab0622219b"
      },
      "execution_count": 327,
      "outputs": [
        {
          "output_type": "execute_result",
          "data": {
            "text/plain": [
              "   Ano do processo seletivo  Semestre do processo seletivo  ID do estudante  \\\n",
              "0                      2021                              2        281805657   \n",
              "1                      2021                              2        281805657   \n",
              "2                      2021                              2        351067941   \n",
              "3                      2021                              2        205906170   \n",
              "4                      2021                              2        351067085   \n",
              "\n",
              "  Sexo Data de Nascimento UF de residência Municipio de residência Etnia/Cor  \\\n",
              "0    M           15/05/00               PR                 COLOMBO     PARDA   \n",
              "1    M           15/05/00               PR                 COLOMBO     PARDA   \n",
              "2    M           10/07/94               PR                CURITIBA    BRANCA   \n",
              "3    M           25/09/89               PR                CURITIBA    BRANCA   \n",
              "4    F           20/07/99               PR               PARANAGUA    BRANCA   \n",
              "\n",
              "  Pessoa com deficiência? Tipo de escola no ensino médio  ...  RegiaoBrasil  \\\n",
              "0                     NÃO                            SIM  ...           SUL   \n",
              "1                     NÃO                            SIM  ...           SUL   \n",
              "2                     NÃO                            NÃO  ...           SUL   \n",
              "3                     NÃO                            SIM  ...           SUL   \n",
              "4                     NÃO                            SIM  ...           SUL   \n",
              "\n",
              "  Latitude Longitude     Gentilico PopEstimada_2018 PopCenso 2010   IDHM  \\\n",
              "0  -252925   -492262   colombense          240840.0      212967.0  0,733   \n",
              "1  -252925   -492262   colombense          240840.0      212967.0  0,733   \n",
              "2  -254195   -492646   curitibano         1917185.0     1751907.0  0,823   \n",
              "3  -254195   -492646   curitibano         1917185.0     1751907.0  0,823   \n",
              "4  -255161   -485225  parnanguara          153666.0      140469.0   0,75   \n",
              "\n",
              "  ReceitasRealizadas_2014  DespesasEmpenhadas_2014  Pib_2014  \n",
              "0                318326.0                 287335.0  18896,33  \n",
              "1                318326.0                 287335.0  18896,33  \n",
              "2               6962143.0                6422553.0  44624,32  \n",
              "3               6962143.0                6422553.0  44624,32  \n",
              "4                355256.0                 273408.0  46973,94  \n",
              "\n",
              "[5 rows x 71 columns]"
            ],
            "text/html": [
              "\n",
              "  <div id=\"df-8dcc2831-4a2d-4a88-ba56-b294be61893d\">\n",
              "    <div class=\"colab-df-container\">\n",
              "      <div>\n",
              "<style scoped>\n",
              "    .dataframe tbody tr th:only-of-type {\n",
              "        vertical-align: middle;\n",
              "    }\n",
              "\n",
              "    .dataframe tbody tr th {\n",
              "        vertical-align: top;\n",
              "    }\n",
              "\n",
              "    .dataframe thead th {\n",
              "        text-align: right;\n",
              "    }\n",
              "</style>\n",
              "<table border=\"1\" class=\"dataframe\">\n",
              "  <thead>\n",
              "    <tr style=\"text-align: right;\">\n",
              "      <th></th>\n",
              "      <th>Ano do processo seletivo</th>\n",
              "      <th>Semestre do processo seletivo</th>\n",
              "      <th>ID do estudante</th>\n",
              "      <th>Sexo</th>\n",
              "      <th>Data de Nascimento</th>\n",
              "      <th>UF de residência</th>\n",
              "      <th>Municipio de residência</th>\n",
              "      <th>Etnia/Cor</th>\n",
              "      <th>Pessoa com deficiência?</th>\n",
              "      <th>Tipo de escola no ensino médio</th>\n",
              "      <th>...</th>\n",
              "      <th>RegiaoBrasil</th>\n",
              "      <th>Latitude</th>\n",
              "      <th>Longitude</th>\n",
              "      <th>Gentilico</th>\n",
              "      <th>PopEstimada_2018</th>\n",
              "      <th>PopCenso 2010</th>\n",
              "      <th>IDHM</th>\n",
              "      <th>ReceitasRealizadas_2014</th>\n",
              "      <th>DespesasEmpenhadas_2014</th>\n",
              "      <th>Pib_2014</th>\n",
              "    </tr>\n",
              "  </thead>\n",
              "  <tbody>\n",
              "    <tr>\n",
              "      <th>0</th>\n",
              "      <td>2021</td>\n",
              "      <td>2</td>\n",
              "      <td>281805657</td>\n",
              "      <td>M</td>\n",
              "      <td>15/05/00</td>\n",
              "      <td>PR</td>\n",
              "      <td>COLOMBO</td>\n",
              "      <td>PARDA</td>\n",
              "      <td>NÃO</td>\n",
              "      <td>SIM</td>\n",
              "      <td>...</td>\n",
              "      <td>SUL</td>\n",
              "      <td>-252925</td>\n",
              "      <td>-492262</td>\n",
              "      <td>colombense</td>\n",
              "      <td>240840.0</td>\n",
              "      <td>212967.0</td>\n",
              "      <td>0,733</td>\n",
              "      <td>318326.0</td>\n",
              "      <td>287335.0</td>\n",
              "      <td>18896,33</td>\n",
              "    </tr>\n",
              "    <tr>\n",
              "      <th>1</th>\n",
              "      <td>2021</td>\n",
              "      <td>2</td>\n",
              "      <td>281805657</td>\n",
              "      <td>M</td>\n",
              "      <td>15/05/00</td>\n",
              "      <td>PR</td>\n",
              "      <td>COLOMBO</td>\n",
              "      <td>PARDA</td>\n",
              "      <td>NÃO</td>\n",
              "      <td>SIM</td>\n",
              "      <td>...</td>\n",
              "      <td>SUL</td>\n",
              "      <td>-252925</td>\n",
              "      <td>-492262</td>\n",
              "      <td>colombense</td>\n",
              "      <td>240840.0</td>\n",
              "      <td>212967.0</td>\n",
              "      <td>0,733</td>\n",
              "      <td>318326.0</td>\n",
              "      <td>287335.0</td>\n",
              "      <td>18896,33</td>\n",
              "    </tr>\n",
              "    <tr>\n",
              "      <th>2</th>\n",
              "      <td>2021</td>\n",
              "      <td>2</td>\n",
              "      <td>351067941</td>\n",
              "      <td>M</td>\n",
              "      <td>10/07/94</td>\n",
              "      <td>PR</td>\n",
              "      <td>CURITIBA</td>\n",
              "      <td>BRANCA</td>\n",
              "      <td>NÃO</td>\n",
              "      <td>NÃO</td>\n",
              "      <td>...</td>\n",
              "      <td>SUL</td>\n",
              "      <td>-254195</td>\n",
              "      <td>-492646</td>\n",
              "      <td>curitibano</td>\n",
              "      <td>1917185.0</td>\n",
              "      <td>1751907.0</td>\n",
              "      <td>0,823</td>\n",
              "      <td>6962143.0</td>\n",
              "      <td>6422553.0</td>\n",
              "      <td>44624,32</td>\n",
              "    </tr>\n",
              "    <tr>\n",
              "      <th>3</th>\n",
              "      <td>2021</td>\n",
              "      <td>2</td>\n",
              "      <td>205906170</td>\n",
              "      <td>M</td>\n",
              "      <td>25/09/89</td>\n",
              "      <td>PR</td>\n",
              "      <td>CURITIBA</td>\n",
              "      <td>BRANCA</td>\n",
              "      <td>NÃO</td>\n",
              "      <td>SIM</td>\n",
              "      <td>...</td>\n",
              "      <td>SUL</td>\n",
              "      <td>-254195</td>\n",
              "      <td>-492646</td>\n",
              "      <td>curitibano</td>\n",
              "      <td>1917185.0</td>\n",
              "      <td>1751907.0</td>\n",
              "      <td>0,823</td>\n",
              "      <td>6962143.0</td>\n",
              "      <td>6422553.0</td>\n",
              "      <td>44624,32</td>\n",
              "    </tr>\n",
              "    <tr>\n",
              "      <th>4</th>\n",
              "      <td>2021</td>\n",
              "      <td>2</td>\n",
              "      <td>351067085</td>\n",
              "      <td>F</td>\n",
              "      <td>20/07/99</td>\n",
              "      <td>PR</td>\n",
              "      <td>PARANAGUA</td>\n",
              "      <td>BRANCA</td>\n",
              "      <td>NÃO</td>\n",
              "      <td>SIM</td>\n",
              "      <td>...</td>\n",
              "      <td>SUL</td>\n",
              "      <td>-255161</td>\n",
              "      <td>-485225</td>\n",
              "      <td>parnanguara</td>\n",
              "      <td>153666.0</td>\n",
              "      <td>140469.0</td>\n",
              "      <td>0,75</td>\n",
              "      <td>355256.0</td>\n",
              "      <td>273408.0</td>\n",
              "      <td>46973,94</td>\n",
              "    </tr>\n",
              "  </tbody>\n",
              "</table>\n",
              "<p>5 rows × 71 columns</p>\n",
              "</div>\n",
              "      <button class=\"colab-df-convert\" onclick=\"convertToInteractive('df-8dcc2831-4a2d-4a88-ba56-b294be61893d')\"\n",
              "              title=\"Convert this dataframe to an interactive table.\"\n",
              "              style=\"display:none;\">\n",
              "        \n",
              "  <svg xmlns=\"http://www.w3.org/2000/svg\" height=\"24px\"viewBox=\"0 0 24 24\"\n",
              "       width=\"24px\">\n",
              "    <path d=\"M0 0h24v24H0V0z\" fill=\"none\"/>\n",
              "    <path d=\"M18.56 5.44l.94 2.06.94-2.06 2.06-.94-2.06-.94-.94-2.06-.94 2.06-2.06.94zm-11 1L8.5 8.5l.94-2.06 2.06-.94-2.06-.94L8.5 2.5l-.94 2.06-2.06.94zm10 10l.94 2.06.94-2.06 2.06-.94-2.06-.94-.94-2.06-.94 2.06-2.06.94z\"/><path d=\"M17.41 7.96l-1.37-1.37c-.4-.4-.92-.59-1.43-.59-.52 0-1.04.2-1.43.59L10.3 9.45l-7.72 7.72c-.78.78-.78 2.05 0 2.83L4 21.41c.39.39.9.59 1.41.59.51 0 1.02-.2 1.41-.59l7.78-7.78 2.81-2.81c.8-.78.8-2.07 0-2.86zM5.41 20L4 18.59l7.72-7.72 1.47 1.35L5.41 20z\"/>\n",
              "  </svg>\n",
              "      </button>\n",
              "      \n",
              "  <style>\n",
              "    .colab-df-container {\n",
              "      display:flex;\n",
              "      flex-wrap:wrap;\n",
              "      gap: 12px;\n",
              "    }\n",
              "\n",
              "    .colab-df-convert {\n",
              "      background-color: #E8F0FE;\n",
              "      border: none;\n",
              "      border-radius: 50%;\n",
              "      cursor: pointer;\n",
              "      display: none;\n",
              "      fill: #1967D2;\n",
              "      height: 32px;\n",
              "      padding: 0 0 0 0;\n",
              "      width: 32px;\n",
              "    }\n",
              "\n",
              "    .colab-df-convert:hover {\n",
              "      background-color: #E2EBFA;\n",
              "      box-shadow: 0px 1px 2px rgba(60, 64, 67, 0.3), 0px 1px 3px 1px rgba(60, 64, 67, 0.15);\n",
              "      fill: #174EA6;\n",
              "    }\n",
              "\n",
              "    [theme=dark] .colab-df-convert {\n",
              "      background-color: #3B4455;\n",
              "      fill: #D2E3FC;\n",
              "    }\n",
              "\n",
              "    [theme=dark] .colab-df-convert:hover {\n",
              "      background-color: #434B5C;\n",
              "      box-shadow: 0px 1px 3px 1px rgba(0, 0, 0, 0.15);\n",
              "      filter: drop-shadow(0px 1px 2px rgba(0, 0, 0, 0.3));\n",
              "      fill: #FFFFFF;\n",
              "    }\n",
              "  </style>\n",
              "\n",
              "      <script>\n",
              "        const buttonEl =\n",
              "          document.querySelector('#df-8dcc2831-4a2d-4a88-ba56-b294be61893d button.colab-df-convert');\n",
              "        buttonEl.style.display =\n",
              "          google.colab.kernel.accessAllowed ? 'block' : 'none';\n",
              "\n",
              "        async function convertToInteractive(key) {\n",
              "          const element = document.querySelector('#df-8dcc2831-4a2d-4a88-ba56-b294be61893d');\n",
              "          const dataTable =\n",
              "            await google.colab.kernel.invokeFunction('convertToInteractive',\n",
              "                                                     [key], {});\n",
              "          if (!dataTable) return;\n",
              "\n",
              "          const docLinkHtml = 'Like what you see? Visit the ' +\n",
              "            '<a target=\"_blank\" href=https://colab.research.google.com/notebooks/data_table.ipynb>data table notebook</a>'\n",
              "            + ' to learn more about interactive tables.';\n",
              "          element.innerHTML = '';\n",
              "          dataTable['output_type'] = 'display_data';\n",
              "          await google.colab.output.renderOutput(dataTable, element);\n",
              "          const docLink = document.createElement('div');\n",
              "          docLink.innerHTML = docLinkHtml;\n",
              "          element.appendChild(docLink);\n",
              "        }\n",
              "      </script>\n",
              "    </div>\n",
              "  </div>\n",
              "  "
            ]
          },
          "metadata": {},
          "execution_count": 327
        }
      ]
    },
    {
      "cell_type": "code",
      "source": [
        "# Informações sobre tipo dos dados\n",
        "\n",
        "df_dados.info()"
      ],
      "metadata": {
        "colab": {
          "base_uri": "https://localhost:8080/"
        },
        "id": "AIexNlpa1s2h",
        "outputId": "c2fee82a-61fc-48ba-a4d7-460250a24bb7"
      },
      "execution_count": 328,
      "outputs": [
        {
          "output_type": "stream",
          "name": "stdout",
          "text": [
            "<class 'pandas.core.frame.DataFrame'>\n",
            "Int64Index: 237965 entries, 0 to 237964\n",
            "Data columns (total 71 columns):\n",
            " #   Column                          Non-Null Count   Dtype  \n",
            "---  ------                          --------------   -----  \n",
            " 0   Ano do processo seletivo        237965 non-null  int64  \n",
            " 1   Semestre do processo seletivo   237965 non-null  int64  \n",
            " 2   ID do estudante                 237965 non-null  int64  \n",
            " 3   Sexo                            237965 non-null  object \n",
            " 4   Data de Nascimento              237965 non-null  object \n",
            " 5   UF de residência                237965 non-null  object \n",
            " 6   Municipio de residência         237965 non-null  object \n",
            " 7   Etnia/Cor                       237965 non-null  object \n",
            " 8   Pessoa com deficiência?         237965 non-null  object \n",
            " 9   Tipo de escola no ensino médio  237965 non-null  object \n",
            " 10  Ano conclusão ensino médio      237965 non-null  int64  \n",
            " 11  Concluiu curso superior?        237965 non-null  object \n",
            " 12  Professor rede pública ensino?  237965 non-null  object \n",
            " 13  Nº de membros Grupo Familiar    237965 non-null  int64  \n",
            " 14  Renda familiar mensal bruta     207690 non-null  object \n",
            " 15  Renda mensal bruta per capita   237965 non-null  object \n",
            " 16  Região grupo de preferência     237965 non-null  object \n",
            " 17  UF                              237965 non-null  object \n",
            " 18  Cod.Microrregião                237965 non-null  int64  \n",
            " 19  Microrregião                    237965 non-null  object \n",
            " 20  Cod.Mesorregião                 237965 non-null  int64  \n",
            " 21  Mesorregião                     237965 non-null  object \n",
            " 22  Conceito de curso do GP         237965 non-null  object \n",
            " 23  Área do conhecimento            237965 non-null  object \n",
            " 24  Subárea do conhecimento         237965 non-null  object \n",
            " 25  Cod. do Grupo de preferência    237965 non-null  int64  \n",
            " 26  Nota Corte Grupo Preferência    237965 non-null  object \n",
            " 27  Opções de cursos da inscrição   237965 non-null  int64  \n",
            " 28  Nome mantenedora                237965 non-null  object \n",
            " 29  Natureza Jurídica Mantenedora   237965 non-null  object \n",
            " 30  CNPJ da mantenedora             237965 non-null  int64  \n",
            " 31  Código e-MEC da Mantenedora     237965 non-null  int64  \n",
            " 32  Nome da IES                     237965 non-null  object \n",
            " 33  Código e-MEC da IES             237965 non-null  int64  \n",
            " 34  Organização Acadêmica da IES    237965 non-null  object \n",
            " 35  Município da IES                237965 non-null  object \n",
            " 36  UF da IES                       237965 non-null  object \n",
            " 37  Nome do Local de oferta         237965 non-null  object \n",
            " 38  Código do Local de Oferta       237965 non-null  int64  \n",
            " 39  Munícipio do Local de Oferta    237965 non-null  object \n",
            " 40  UF do Local de Oferta           237965 non-null  object \n",
            " 41  Código do curso                 237965 non-null  int64  \n",
            " 42  Nome do curso                   237965 non-null  object \n",
            " 43  Turno                           237965 non-null  object \n",
            " 44  Grau                            237965 non-null  object \n",
            " 45  Conceito                        237965 non-null  object \n",
            " 46  Média nota Enem                 237965 non-null  object \n",
            " 47  Ano do Enem                     237965 non-null  int64  \n",
            " 48  Redação                         237965 non-null  int64  \n",
            " 49  Matemática e suas Tecnologias   237965 non-null  object \n",
            " 50  Linguagens, Códigos e suas Tec  237965 non-null  object \n",
            " 51  Ciências Natureza e suas Tec    237965 non-null  object \n",
            " 52  Ciências Humanas e suas Tec     237965 non-null  object \n",
            " 53  Situação Inscrição Fies         237965 non-null  object \n",
            " 54  Percentual de financiamento     22443 non-null   object \n",
            " 55  Semestre do financiamento       207900 non-null  object \n",
            " 56  Qtde semestre financiado        52508 non-null   float64\n",
            " 57  IBGECode                        237960 non-null  float64\n",
            " 58  LocalCidade                     237960 non-null  object \n",
            " 59  LocalUF                         237960 non-null  object \n",
            " 60  LocalEstado                     237960 non-null  object \n",
            " 61  RegiaoBrasil                    237960 non-null  object \n",
            " 62  Latitude                        237960 non-null  object \n",
            " 63  Longitude                       237960 non-null  object \n",
            " 64  Gentilico                       237960 non-null  object \n",
            " 65  PopEstimada_2018                237960 non-null  float64\n",
            " 66  PopCenso 2010                   237960 non-null  float64\n",
            " 67  IDHM                            237948 non-null  object \n",
            " 68  ReceitasRealizadas_2014         237960 non-null  float64\n",
            " 69  DespesasEmpenhadas_2014         237960 non-null  float64\n",
            " 70  Pib_2014                        237960 non-null  object \n",
            "dtypes: float64(6), int64(16), object(49)\n",
            "memory usage: 130.7+ MB\n"
          ]
        }
      ]
    },
    {
      "cell_type": "code",
      "source": [
        "# Deleção das colunas não utilizadas\n",
        "\n",
        "df_dados = df_dados.drop(['Nome mantenedora','Natureza Jurídica Mantenedora','CNPJ da mantenedora','Código e-MEC da Mantenedora','Nome da IES','Código e-MEC da IES','Organização Acadêmica da IES'],axis=1)\n",
        "\n",
        "df_dados = df_dados.drop(['Município da IES','UF da IES','Nome do Local de oferta','Código do Local de Oferta','Munícipio do Local de Oferta','UF do Local de Oferta','Grau','Conceito'],axis=1)\n",
        "\n",
        "df_dados = df_dados.drop(['Região grupo de preferência','UF','Cod.Microrregião','Microrregião','Cod.Mesorregião','Mesorregião','Conceito de curso do GP','Subárea do conhecimento','Área do conhecimento'],axis=1)\n",
        "\n",
        "df_dados = df_dados.drop(['Opções de cursos da inscrição','Código do curso','Percentual de financiamento','Semestre do financiamento','Qtde semestre financiado','IBGECode'],axis=1)\n",
        "\n",
        "df_dados = df_dados.drop(['RegiaoBrasil','Latitude','Longitude','Gentilico','Ano do processo seletivo','Semestre do processo seletivo','LocalUF','Municipio de residência','Data de Nascimento'],axis=1)\n",
        "\n",
        "df_dados = df_dados.drop(['Professor rede pública ensino?','Ano do Enem','ReceitasRealizadas_2014','DespesasEmpenhadas_2014','PopEstimada_2018','PopCenso 2010'],axis=1)\n",
        "\n",
        "df_dados = df_dados.drop(['Tipo de escola no ensino médio','UF de residência','Cod. do Grupo de preferência','Ano conclusão ensino médio','ID do estudante','Pib_2014'],axis=1)\n",
        "\n",
        "df_dados = df_dados.drop(['Renda familiar mensal bruta', 'Pessoa com deficiência?', 'Concluiu curso superior?','Nº de membros Grupo Familiar'],axis=1)"
      ],
      "metadata": {
        "id": "j4Z4vfkO2pJ6"
      },
      "execution_count": 329,
      "outputs": []
    },
    {
      "cell_type": "code",
      "source": [
        "# Informações sobre tipo dos dados\n",
        "\n",
        "df_dados.info()"
      ],
      "metadata": {
        "colab": {
          "base_uri": "https://localhost:8080/"
        },
        "id": "UbvdRRyuBUzE",
        "outputId": "8f8a9ee6-7138-4471-b2b4-74aae9a800c1"
      },
      "execution_count": 330,
      "outputs": [
        {
          "output_type": "stream",
          "name": "stdout",
          "text": [
            "<class 'pandas.core.frame.DataFrame'>\n",
            "Int64Index: 237965 entries, 0 to 237964\n",
            "Data columns (total 16 columns):\n",
            " #   Column                          Non-Null Count   Dtype \n",
            "---  ------                          --------------   ----- \n",
            " 0   Sexo                            237965 non-null  object\n",
            " 1   Etnia/Cor                       237965 non-null  object\n",
            " 2   Renda mensal bruta per capita   237965 non-null  object\n",
            " 3   Nota Corte Grupo Preferência    237965 non-null  object\n",
            " 4   Nome do curso                   237965 non-null  object\n",
            " 5   Turno                           237965 non-null  object\n",
            " 6   Média nota Enem                 237965 non-null  object\n",
            " 7   Redação                         237965 non-null  int64 \n",
            " 8   Matemática e suas Tecnologias   237965 non-null  object\n",
            " 9   Linguagens, Códigos e suas Tec  237965 non-null  object\n",
            " 10  Ciências Natureza e suas Tec    237965 non-null  object\n",
            " 11  Ciências Humanas e suas Tec     237965 non-null  object\n",
            " 12  Situação Inscrição Fies         237965 non-null  object\n",
            " 13  LocalCidade                     237960 non-null  object\n",
            " 14  LocalEstado                     237960 non-null  object\n",
            " 15  IDHM                            237948 non-null  object\n",
            "dtypes: int64(1), object(15)\n",
            "memory usage: 30.9+ MB\n"
          ]
        }
      ]
    },
    {
      "cell_type": "code",
      "source": [
        "# Renomeando colunas\n",
        "\n",
        "df_dados.rename(columns={'Etnia/Cor': 'Cor',\n",
        "                         'Renda mensal bruta per capita': 'Renda_per_capita',\n",
        "                         'Média nota Enem': 'Media_Enem',\n",
        "                         'Matemática e suas Tecnologias': 'Matematica',\n",
        "                         'Linguagens, Códigos e suas Tec': 'Linguagens',\n",
        "                         'Ciências Natureza e suas Tec': 'Ciencias_natureza',\n",
        "                         'Ciências Humanas e suas Tec': 'Ciencias_humanas',\n",
        "                         'Nome do curso': 'Curso',\n",
        "                         'Nota Corte Grupo Preferência': 'Nota_corte',\n",
        "                         'Situação Inscrição Fies': 'Situacao'}, inplace = True)"
      ],
      "metadata": {
        "id": "qEtOSbeIITln"
      },
      "execution_count": 331,
      "outputs": []
    },
    {
      "cell_type": "code",
      "source": [
        "# Análise de dados faltantes\n",
        "\n",
        "df_dados.isnull().sum().sort_values(ascending=False)[:10]"
      ],
      "metadata": {
        "colab": {
          "base_uri": "https://localhost:8080/"
        },
        "id": "gS-L-vHm_V8b",
        "outputId": "8e997e75-8086-444d-b95a-4cd166ca7aea"
      },
      "execution_count": 332,
      "outputs": [
        {
          "output_type": "execute_result",
          "data": {
            "text/plain": [
              "IDHM                17\n",
              "LocalCidade          5\n",
              "LocalEstado          5\n",
              "Sexo                 0\n",
              "Cor                  0\n",
              "Renda_per_capita     0\n",
              "Nota_corte           0\n",
              "Curso                0\n",
              "Turno                0\n",
              "Media_Enem           0\n",
              "dtype: int64"
            ]
          },
          "metadata": {},
          "execution_count": 332
        }
      ]
    },
    {
      "cell_type": "code",
      "source": [
        "# Limpeza de dados nulos\n",
        "\n",
        "df_dados.dropna(subset=[\"IDHM\"], inplace=True)\n",
        "df_dados.dropna(subset=[\"LocalEstado\"], inplace=True)\n",
        "df_dados.dropna(subset=[\"LocalCidade\"], inplace=True)"
      ],
      "metadata": {
        "id": "N7aNy1CtO8Lq"
      },
      "execution_count": 333,
      "outputs": []
    },
    {
      "cell_type": "code",
      "source": [
        "# Conversão númericos\n",
        "\n",
        "df_dados['Nota_corte'] = df_dados['Nota_corte'].apply(lambda x: x.replace(\",\",\".\")).astype(float)\n",
        "df_dados['Media_Enem'] = df_dados['Media_Enem'].apply(lambda x: x.replace(\",\",\".\")).astype(float)\n",
        "df_dados['Matematica'] = df_dados['Matematica'].apply(lambda x: x.replace(\",\",\".\")).astype(float)\n",
        "df_dados['Linguagens'] = df_dados['Linguagens'].apply(lambda x: x.replace(\",\",\".\")).astype(float)\n",
        "df_dados['Ciencias_natureza'] = df_dados['Ciencias_natureza'].apply(lambda x: x.replace(\",\",\".\")).astype(float)\n",
        "df_dados['Ciencias_humanas'] = df_dados['Ciencias_humanas'].apply(lambda x: x.replace(\",\",\".\")).astype(float)\n",
        "df_dados['IDHM'] = df_dados['IDHM'].apply(lambda x: x.replace(\",\",\".\")).astype(float)\n",
        "df_dados['Renda_per_capita'] = df_dados['Renda_per_capita'].apply(lambda x: x.replace(\",\",\".\")).astype(float)"
      ],
      "metadata": {
        "id": "j9XuNFMZqQ1N"
      },
      "execution_count": 334,
      "outputs": []
    },
    {
      "cell_type": "code",
      "source": [
        "# Conversão categóricos\n",
        "\n",
        "label_encoder = LabelEncoder()\n",
        "df_dados['Curso'] = label_encoder.fit_transform(df_dados['Curso'])\n",
        "df_dados['LocalEstado'] = label_encoder.fit_transform(df_dados['LocalEstado'])\n",
        "df_dados['LocalCidade'] = label_encoder.fit_transform(df_dados['LocalCidade'])"
      ],
      "metadata": {
        "id": "9TKBtm97Ttcw"
      },
      "execution_count": 335,
      "outputs": []
    },
    {
      "cell_type": "code",
      "source": [
        "# Limpeza da coluna alvo, apenas vai ser verificado dados contratados ou não\n",
        "\n",
        "df_dados.drop(df_dados.loc[df_dados['Situacao']=='INSCRIÇÃO POSTERGADA'].index, inplace=True)\n",
        "df_dados.drop(df_dados.loc[df_dados['Situacao']=='LISTA DE ESPERA'].index, inplace=True)\n",
        "df_dados.drop(df_dados.loc[df_dados['Situacao']=='OPÇÃO NÃO CONTRATADA'].index, inplace=True)\n",
        "df_dados.drop(df_dados.loc[df_dados['Situacao']=='PARTICIPACAO CANCELADA PELO CANDIDATO'].index, inplace=True)\n",
        "df_dados.drop(df_dados.loc[df_dados['Situacao']=='PRÉ-SELECIONADO'].index, inplace=True)\n",
        "df_dados.drop(df_dados.loc[df_dados['Situacao']=='REJEITADA PELA CPSA'].index, inplace=True)\n",
        "\n",
        "# Conversão para númerico\n",
        "df_dados['Situacao'].replace(['NÃO CONTRATADO', 'CONTRATADA'], [0, 1], inplace=True)\n",
        "\n",
        "print(df_dados.groupby('Situacao').size())"
      ],
      "metadata": {
        "colab": {
          "base_uri": "https://localhost:8080/"
        },
        "id": "ZFkfOUFCKhma",
        "outputId": "f20e7680-b7c4-4fd7-f028-6b1b51fcb1c3"
      },
      "execution_count": 336,
      "outputs": [
        {
          "output_type": "stream",
          "name": "stdout",
          "text": [
            "Situacao\n",
            "0    115773\n",
            "1     22442\n",
            "dtype: int64\n"
          ]
        }
      ]
    },
    {
      "cell_type": "code",
      "source": [
        "# Estrutura dos dados\n",
        "\n",
        "df_dados.info()"
      ],
      "metadata": {
        "colab": {
          "base_uri": "https://localhost:8080/"
        },
        "id": "bvPc2lYHGu6Q",
        "outputId": "6e495c75-18b9-42df-947b-c0d1fe120387"
      },
      "execution_count": 337,
      "outputs": [
        {
          "output_type": "stream",
          "name": "stdout",
          "text": [
            "<class 'pandas.core.frame.DataFrame'>\n",
            "Int64Index: 138215 entries, 0 to 237961\n",
            "Data columns (total 16 columns):\n",
            " #   Column             Non-Null Count   Dtype  \n",
            "---  ------             --------------   -----  \n",
            " 0   Sexo               138215 non-null  object \n",
            " 1   Cor                138215 non-null  object \n",
            " 2   Renda_per_capita   138215 non-null  float64\n",
            " 3   Nota_corte         138215 non-null  float64\n",
            " 4   Curso              138215 non-null  int64  \n",
            " 5   Turno              138215 non-null  object \n",
            " 6   Media_Enem         138215 non-null  float64\n",
            " 7   Redação            138215 non-null  int64  \n",
            " 8   Matematica         138215 non-null  float64\n",
            " 9   Linguagens         138215 non-null  float64\n",
            " 10  Ciencias_natureza  138215 non-null  float64\n",
            " 11  Ciencias_humanas   138215 non-null  float64\n",
            " 12  Situacao           138215 non-null  int64  \n",
            " 13  LocalCidade        138215 non-null  int64  \n",
            " 14  LocalEstado        138215 non-null  int64  \n",
            " 15  IDHM               138215 non-null  float64\n",
            "dtypes: float64(8), int64(5), object(3)\n",
            "memory usage: 17.9+ MB\n"
          ]
        }
      ]
    },
    {
      "cell_type": "code",
      "source": [
        "plt.figure(figsize=(15, 8))\n",
        "plot_chart('Cor', df_dados, df_dados['Cor'].value_counts().index, title='Cor',\n",
        "           ylabel='Race', xlabel='Cases', hue='Cor')"
      ],
      "metadata": {
        "colab": {
          "base_uri": "https://localhost:8080/",
          "height": 0
        },
        "id": "pzl7IDmWy14e",
        "outputId": "d2246ad5-a330-456f-a539-0c2aae73f446"
      },
      "execution_count": 338,
      "outputs": [
        {
          "output_type": "display_data",
          "data": {
            "text/plain": [
              "<Figure size 1080x576 with 1 Axes>"
            ],
            "image/png": "[encoded data removed]"
          },
          "metadata": {
            "needs_background": "light"
          }
        }
      ]
    },
    {
      "cell_type": "code",
      "source": [
        "plt.figure(figsize=(15, 8))\n",
        "plot_chart('Sexo', df_dados, df_dados['Sexo'].value_counts().index, title='Sexo',\n",
        "           ylabel='Race', xlabel='Cases', hue='Sexo')"
      ],
      "metadata": {
        "colab": {
          "base_uri": "https://localhost:8080/",
          "height": 0
        },
        "id": "Wvv_xgJkB3GM",
        "outputId": "b0c24c8d-cae6-4599-df15-80a153fcd141"
      },
      "execution_count": 339,
      "outputs": [
        {
          "output_type": "display_data",
          "data": {
            "text/plain": [
              "<Figure size 1080x576 with 1 Axes>"
            ],
            "image/png": "[encoded data removed]"
          },
          "metadata": {
            "needs_background": "light"
          }
        }
      ]
    },
    {
      "cell_type": "code",
      "source": [
        "plt.figure(figsize=(15, 8))\n",
        "plot_chart('Turno', df_dados, df_dados['Turno'].value_counts().index, title='Turno',\n",
        "           ylabel='Race', xlabel='Cases', hue='Turno')"
      ],
      "metadata": {
        "colab": {
          "base_uri": "https://localhost:8080/",
          "height": 0
        },
        "id": "AJWN9V4BBc7N",
        "outputId": "bb518fe8-58c1-429b-e687-5344622cd1f9"
      },
      "execution_count": 340,
      "outputs": [
        {
          "output_type": "display_data",
          "data": {
            "text/plain": [
              "<Figure size 1080x576 with 1 Axes>"
            ],
            "image/png": "[encoded data removed]"
          },
          "metadata": {
            "needs_background": "light"
          }
        }
      ]
    },
    {
      "cell_type": "code",
      "source": [
        "#Exclusão de colunas não utilizadas no modelo\n",
        "\n",
        "df_dados = df_dados.drop(['Cor', 'Sexo', 'Turno'],axis=1)"
      ],
      "metadata": {
        "id": "5G4bgJVJtWcX"
      },
      "execution_count": 341,
      "outputs": []
    },
    {
      "cell_type": "code",
      "source": [
        "# Análise de Outliers\n",
        "\n",
        "numeric_columns = df_dados.select_dtypes(np.number).columns\n",
        "\n",
        "for col in numeric_columns:\n",
        "    plt.figure(figsize=(10,5))\n",
        "    sns.boxplot(y=col, data=df_dados)\n",
        "    plt.title(col)\n",
        "    plt.ylabel(None)\n",
        "    plt.show()"
      ],
      "metadata": {
        "colab": {
          "base_uri": "https://localhost:8080/",
          "height": 0
        },
        "id": "oErDcaogOf_P",
        "outputId": "f402cbfa-4f52-408c-a5bc-8231371c9260"
      },
      "execution_count": 342,
      "outputs": [
        {
          "output_type": "display_data",
          "data": {
            "text/plain": [
              "<Figure size 720x360 with 1 Axes>"
            ],
            "image/png": "[encoded data removed]"
          },
          "metadata": {
            "needs_background": "light"
          }
        },
        {
          "output_type": "display_data",
          "data": {
            "text/plain": [
              "<Figure size 720x360 with 1 Axes>"
            ],
            "image/png": "[encoded data removed]"
          },
          "metadata": {
            "needs_background": "light"
          }
        },
        {
          "output_type": "display_data",
          "data": {
            "text/plain": [
              "<Figure size 720x360 with 1 Axes>"
            ],
            "image/png": "[encoded data removed]"
          },
          "metadata": {
            "needs_background": "light"
          }
        },
        {
          "output_type": "display_data",
          "data": {
            "text/plain": [
              "<Figure size 720x360 with 1 Axes>"
            ],
            "image/png": "[encoded data removed]"
          },
          "metadata": {
            "needs_background": "light"
          }
        },
        {
          "output_type": "display_data",
          "data": {
            "text/plain": [
              "<Figure size 720x360 with 1 Axes>"
            ],
            "image/png": "[encoded data removed]"
          },
          "metadata": {
            "needs_background": "light"
          }
        },
        {
          "output_type": "display_data",
          "data": {
            "text/plain": [
              "<Figure size 720x360 with 1 Axes>"
            ],
            "image/png": "[encoded data removed]"
          },
          "metadata": {
            "needs_background": "light"
          }
        },
        {
          "output_type": "display_data",
          "data": {
            "text/plain": [
              "<Figure size 720x360 with 1 Axes>"
            ],
            "image/png": "[encoded data removed]"
          },
          "metadata": {
            "needs_background": "light"
          }
        },
        {
          "output_type": "display_data",
          "data": {
            "text/plain": [
              "<Figure size 720x360 with 1 Axes>"
            ],
            "image/png": "[encoded data removed]"
          },
          "metadata": {
            "needs_background": "light"
          }
        },
        {
          "output_type": "display_data",
          "data": {
            "text/plain": [
              "<Figure size 720x360 with 1 Axes>"
            ],
            "image/png": "[encoded data removed]"
          },
          "metadata": {
            "needs_background": "light"
          }
        },
        {
          "output_type": "display_data",
          "data": {
            "text/plain": [
              "<Figure size 720x360 with 1 Axes>"
            ],
            "image/png": "[encoded data removed]"
          },
          "metadata": {
            "needs_background": "light"
          }
        },
        {
          "output_type": "display_data",
          "data": {
            "text/plain": [
              "<Figure size 720x360 with 1 Axes>"
            ],
            "image/png": "[encoded data removed]"
          },
          "metadata": {
            "needs_background": "light"
          }
        },
        {
          "output_type": "display_data",
          "data": {
            "text/plain": [
              "<Figure size 720x360 with 1 Axes>"
            ],
            "image/png": "[encoded data removed]"
          },
          "metadata": {
            "needs_background": "light"
          }
        },
        {
          "output_type": "display_data",
          "data": {
            "text/plain": [
              "<Figure size 720x360 with 1 Axes>"
            ],
            "image/png": "[encoded data removed]"
          },
          "metadata": {
            "needs_background": "light"
          }
        }
      ]
    },
    {
      "cell_type": "code",
      "source": [
        "# Remoção de outliers e cortes da regra do FIES\n",
        "\n",
        "df_remove = df_dados.loc[(df_dados['Renda_per_capita'] > 4000) | (df_dados['Media_Enem'] < 450) | (df_dados['Redação'] < 400) ]\n",
        "\n",
        "df_dados = df_dados.drop(df_remove.index)                             "
      ],
      "metadata": {
        "id": "sn7W6Q557BOV"
      },
      "execution_count": 343,
      "outputs": []
    },
    {
      "cell_type": "code",
      "source": [
        "print(df_dados.hist(column = ['Renda_per_capita']))"
      ],
      "metadata": {
        "colab": {
          "base_uri": "https://localhost:8080/",
          "height": 0
        },
        "id": "ll3FdxgTDY9x",
        "outputId": "cfa8f232-355f-4ed2-bfb8-be57f3e97c9e"
      },
      "execution_count": 344,
      "outputs": [
        {
          "output_type": "stream",
          "name": "stdout",
          "text": [
            "[[<matplotlib.axes._subplots.AxesSubplot object at 0x7fc01b876990>]]\n"
          ]
        },
        {
          "output_type": "display_data",
          "data": {
            "text/plain": [
              "<Figure size 432x288 with 1 Axes>"
            ],
            "image/png": "[encoded data removed]"
          },
          "metadata": {
            "needs_background": "light"
          }
        }
      ]
    },
    {
      "cell_type": "code",
      "source": [
        "print(df_dados.hist(column = ['Nota_corte']))"
      ],
      "metadata": {
        "colab": {
          "base_uri": "https://localhost:8080/",
          "height": 0
        },
        "id": "kYkVb0aTDZxq",
        "outputId": "7a47a886-ce4f-4edb-83bc-570e5052b025"
      },
      "execution_count": 345,
      "outputs": [
        {
          "output_type": "stream",
          "name": "stdout",
          "text": [
            "[[<matplotlib.axes._subplots.AxesSubplot object at 0x7fc016369fd0>]]\n"
          ]
        },
        {
          "output_type": "display_data",
          "data": {
            "text/plain": [
              "<Figure size 432x288 with 1 Axes>"
            ],
            "image/png": "[encoded data removed]"
          },
          "metadata": {
            "needs_background": "light"
          }
        }
      ]
    },
    {
      "cell_type": "code",
      "source": [
        "print(df_dados.hist(column = ['Media_Enem']))"
      ],
      "metadata": {
        "colab": {
          "base_uri": "https://localhost:8080/",
          "height": 0
        },
        "id": "t_kTqNpfDN1-",
        "outputId": "6a631b84-ad2e-4938-ff50-9463f2c5a219"
      },
      "execution_count": 346,
      "outputs": [
        {
          "output_type": "stream",
          "name": "stdout",
          "text": [
            "[[<matplotlib.axes._subplots.AxesSubplot object at 0x7fc01635fcd0>]]\n"
          ]
        },
        {
          "output_type": "display_data",
          "data": {
            "text/plain": [
              "<Figure size 432x288 with 1 Axes>"
            ],
            "image/png": "[encoded data removed]"
          },
          "metadata": {
            "needs_background": "light"
          }
        }
      ]
    },
    {
      "cell_type": "code",
      "source": [
        "print(df_dados.hist(column = ['Redação']))"
      ],
      "metadata": {
        "colab": {
          "base_uri": "https://localhost:8080/",
          "height": 0
        },
        "id": "UDDDjVAUDO_1",
        "outputId": "0b835dfb-3422-4392-d3d8-7d2e5ba49bff"
      },
      "execution_count": 347,
      "outputs": [
        {
          "output_type": "stream",
          "name": "stdout",
          "text": [
            "[[<matplotlib.axes._subplots.AxesSubplot object at 0x7fc0162e4490>]]\n"
          ]
        },
        {
          "output_type": "display_data",
          "data": {
            "text/plain": [
              "<Figure size 432x288 with 1 Axes>"
            ],
            "image/png": "[encoded data removed]"
          },
          "metadata": {
            "needs_background": "light"
          }
        }
      ]
    },
    {
      "cell_type": "code",
      "source": [
        "print(df_dados.hist(column = ['Matematica']))"
      ],
      "metadata": {
        "colab": {
          "base_uri": "https://localhost:8080/",
          "height": 0
        },
        "id": "t6EBWdjfDPJp",
        "outputId": "b2df9380-2083-4d26-8a44-189eaad1ac3e"
      },
      "execution_count": 348,
      "outputs": [
        {
          "output_type": "stream",
          "name": "stdout",
          "text": [
            "[[<matplotlib.axes._subplots.AxesSubplot object at 0x7fc016249090>]]\n"
          ]
        },
        {
          "output_type": "display_data",
          "data": {
            "text/plain": [
              "<Figure size 432x288 with 1 Axes>"
            ],
            "image/png": "[encoded data removed]"
          },
          "metadata": {
            "needs_background": "light"
          }
        }
      ]
    },
    {
      "cell_type": "code",
      "source": [
        "print(df_dados.hist(column = ['Linguagens']))"
      ],
      "metadata": {
        "colab": {
          "base_uri": "https://localhost:8080/",
          "height": 0
        },
        "id": "ngAvN93rDPRh",
        "outputId": "1316ef00-b3fa-42b5-bec9-e66998a1a7c7"
      },
      "execution_count": 349,
      "outputs": [
        {
          "output_type": "stream",
          "name": "stdout",
          "text": [
            "[[<matplotlib.axes._subplots.AxesSubplot object at 0x7fc0161bbfd0>]]\n"
          ]
        },
        {
          "output_type": "display_data",
          "data": {
            "text/plain": [
              "<Figure size 432x288 with 1 Axes>"
            ],
            "image/png": "[encoded data removed]"
          },
          "metadata": {
            "needs_background": "light"
          }
        }
      ]
    },
    {
      "cell_type": "code",
      "source": [
        "print(df_dados.hist(column = ['Ciencias_natureza']))"
      ],
      "metadata": {
        "colab": {
          "base_uri": "https://localhost:8080/",
          "height": 0
        },
        "id": "gI75CZcNDJEx",
        "outputId": "beb05e8a-5420-439a-97bc-7fca24c80029"
      },
      "execution_count": 350,
      "outputs": [
        {
          "output_type": "stream",
          "name": "stdout",
          "text": [
            "[[<matplotlib.axes._subplots.AxesSubplot object at 0x7fc0161a4e10>]]\n"
          ]
        },
        {
          "output_type": "display_data",
          "data": {
            "text/plain": [
              "<Figure size 432x288 with 1 Axes>"
            ],
            "image/png": "[encoded data removed]"
          },
          "metadata": {
            "needs_background": "light"
          }
        }
      ]
    },
    {
      "cell_type": "code",
      "source": [
        "print(df_dados.hist(column = ['Ciencias_humanas']))"
      ],
      "metadata": {
        "colab": {
          "base_uri": "https://localhost:8080/",
          "height": 0
        },
        "id": "HADYd33LDC7J",
        "outputId": "36e56dd6-2ca1-4b2e-dad5-fd6fae298e15"
      },
      "execution_count": 351,
      "outputs": [
        {
          "output_type": "stream",
          "name": "stdout",
          "text": [
            "[[<matplotlib.axes._subplots.AxesSubplot object at 0x7fc01611e5d0>]]\n"
          ]
        },
        {
          "output_type": "display_data",
          "data": {
            "text/plain": [
              "<Figure size 432x288 with 1 Axes>"
            ],
            "image/png": "[encoded data removed]"
          },
          "metadata": {
            "needs_background": "light"
          }
        }
      ]
    },
    {
      "cell_type": "code",
      "source": [
        "print(df_dados.hist(column = ['IDHM']))"
      ],
      "metadata": {
        "colab": {
          "base_uri": "https://localhost:8080/",
          "height": 0
        },
        "id": "vLJtzZs-CVXr",
        "outputId": "c42577bf-0660-4c58-a958-e8bb67ecb3bc"
      },
      "execution_count": 352,
      "outputs": [
        {
          "output_type": "stream",
          "name": "stdout",
          "text": [
            "[[<matplotlib.axes._subplots.AxesSubplot object at 0x7fc01607dfd0>]]\n"
          ]
        },
        {
          "output_type": "display_data",
          "data": {
            "text/plain": [
              "<Figure size 432x288 with 1 Axes>"
            ],
            "image/png": "[encoded data removed]"
          },
          "metadata": {
            "needs_background": "light"
          }
        }
      ]
    },
    {
      "cell_type": "code",
      "source": [
        "# Normalização dos dados\n",
        "\n",
        "df_max_scaled = df_dados.copy() \n",
        "for column in df_max_scaled.columns: \n",
        "    df_max_scaled[column] = df_max_scaled[column]  / df_max_scaled[column].abs().max() \n",
        "      \n",
        "display(df_max_scaled) "
      ],
      "metadata": {
        "colab": {
          "base_uri": "https://localhost:8080/",
          "height": 0
        },
        "id": "ruUBgr5eSlZe",
        "outputId": "9a243cbd-86f7-4077-e8c1-cfc4d73aa243"
      },
      "execution_count": 353,
      "outputs": [
        {
          "output_type": "display_data",
          "data": {
            "text/plain": [
              "        Renda_per_capita  Nota_corte     Curso  Media_Enem  Redação  \\\n",
              "0               0.354420    0.780957  0.277344    0.763668     0.64   \n",
              "1               0.354420    0.780957  0.277344    0.763668     0.64   \n",
              "4               0.208333    0.780957  0.277344    0.626695     0.68   \n",
              "5               0.208333    0.780957  0.277344    0.626695     0.68   \n",
              "7               0.091667    0.780957  0.277344    0.589056     0.60   \n",
              "...                  ...         ...       ...         ...      ...   \n",
              "237954          0.381250    0.566720  0.093750    0.771695     0.76   \n",
              "237955          0.300000    0.577842  0.347656    0.761906     0.56   \n",
              "237959          0.095833    0.577842  0.347656    0.565856     0.50   \n",
              "237960          0.108332    0.577842  0.347656    0.698204     0.60   \n",
              "237961          0.275000    0.585189  0.398438    0.612917     0.56   \n",
              "\n",
              "        Matematica  Linguagens  Ciencias_natureza  Ciencias_humanas  Situacao  \\\n",
              "0         0.692718    0.844094           0.679809          0.716325       0.0   \n",
              "1         0.692718    0.844094           0.679809          0.716325       0.0   \n",
              "4         0.419077    0.655906           0.610278          0.561708       0.0   \n",
              "5         0.419077    0.655906           0.610278          0.561708       0.0   \n",
              "7         0.370667    0.729265           0.620733          0.457172       0.0   \n",
              "...            ...         ...                ...               ...       ...   \n",
              "237954    0.677231    0.775984           0.682076          0.690997       0.0   \n",
              "237955    0.691795    0.839633           0.732586          0.756850       0.0   \n",
              "237959    0.497333    0.644619           0.494521          0.510592       0.0   \n",
              "237960    0.660000    0.783202           0.630054          0.590030       0.0   \n",
              "237961    0.440821    0.707743           0.645799          0.532696       0.0   \n",
              "\n",
              "        LocalCidade  LocalEstado      IDHM  \n",
              "0          0.236602     0.500000  0.850348  \n",
              "1          0.236602     0.500000  0.850348  \n",
              "4          0.649989     0.500000  0.870070  \n",
              "5          0.649989     0.500000  0.870070  \n",
              "7          0.649989     0.500000  0.870070  \n",
              "...             ...          ...       ...  \n",
              "237954     0.827218     0.961538  0.933875  \n",
              "237955     0.195686     0.961538  0.868910  \n",
              "237959     0.873916     0.961538  0.933875  \n",
              "237960     0.815877     0.961538  0.945476  \n",
              "237961     0.873916     0.961538  0.933875  \n",
              "\n",
              "[132529 rows x 13 columns]"
            ],
            "text/html": [
              "\n",
              "  <div id=\"df-f1c11eea-ef95-4ab1-a295-dbc6328f54a7\">\n",
              "    <div class=\"colab-df-container\">\n",
              "      <div>\n",
              "<style scoped>\n",
              "    .dataframe tbody tr th:only-of-type {\n",
              "        vertical-align: middle;\n",
              "    }\n",
              "\n",
              "    .dataframe tbody tr th {\n",
              "        vertical-align: top;\n",
              "    }\n",
              "\n",
              "    .dataframe thead th {\n",
              "        text-align: right;\n",
              "    }\n",
              "</style>\n",
              "<table border=\"1\" class=\"dataframe\">\n",
              "  <thead>\n",
              "    <tr style=\"text-align: right;\">\n",
              "      <th></th>\n",
              "      <th>Renda_per_capita</th>\n",
              "      <th>Nota_corte</th>\n",
              "      <th>Curso</th>\n",
              "      <th>Media_Enem</th>\n",
              "      <th>Redação</th>\n",
              "      <th>Matematica</th>\n",
              "      <th>Linguagens</th>\n",
              "      <th>Ciencias_natureza</th>\n",
              "      <th>Ciencias_humanas</th>\n",
              "      <th>Situacao</th>\n",
              "      <th>LocalCidade</th>\n",
              "      <th>LocalEstado</th>\n",
              "      <th>IDHM</th>\n",
              "    </tr>\n",
              "  </thead>\n",
              "  <tbody>\n",
              "    <tr>\n",
              "      <th>0</th>\n",
              "      <td>0.354420</td>\n",
              "      <td>0.780957</td>\n",
              "      <td>0.277344</td>\n",
              "      <td>0.763668</td>\n",
              "      <td>0.64</td>\n",
              "      <td>0.692718</td>\n",
              "      <td>0.844094</td>\n",
              "      <td>0.679809</td>\n",
              "      <td>0.716325</td>\n",
              "      <td>0.0</td>\n",
              "      <td>0.236602</td>\n",
              "      <td>0.500000</td>\n",
              "      <td>0.850348</td>\n",
              "    </tr>\n",
              "    <tr>\n",
              "      <th>1</th>\n",
              "      <td>0.354420</td>\n",
              "      <td>0.780957</td>\n",
              "      <td>0.277344</td>\n",
              "      <td>0.763668</td>\n",
              "      <td>0.64</td>\n",
              "      <td>0.692718</td>\n",
              "      <td>0.844094</td>\n",
              "      <td>0.679809</td>\n",
              "      <td>0.716325</td>\n",
              "      <td>0.0</td>\n",
              "      <td>0.236602</td>\n",
              "      <td>0.500000</td>\n",
              "      <td>0.850348</td>\n",
              "    </tr>\n",
              "    <tr>\n",
              "      <th>4</th>\n",
              "      <td>0.208333</td>\n",
              "      <td>0.780957</td>\n",
              "      <td>0.277344</td>\n",
              "      <td>0.626695</td>\n",
              "      <td>0.68</td>\n",
              "      <td>0.419077</td>\n",
              "      <td>0.655906</td>\n",
              "      <td>0.610278</td>\n",
              "      <td>0.561708</td>\n",
              "      <td>0.0</td>\n",
              "      <td>0.649989</td>\n",
              "      <td>0.500000</td>\n",
              "      <td>0.870070</td>\n",
              "    </tr>\n",
              "    <tr>\n",
              "      <th>5</th>\n",
              "      <td>0.208333</td>\n",
              "      <td>0.780957</td>\n",
              "      <td>0.277344</td>\n",
              "      <td>0.626695</td>\n",
              "      <td>0.68</td>\n",
              "      <td>0.419077</td>\n",
              "      <td>0.655906</td>\n",
              "      <td>0.610278</td>\n",
              "      <td>0.561708</td>\n",
              "      <td>0.0</td>\n",
              "      <td>0.649989</td>\n",
              "      <td>0.500000</td>\n",
              "      <td>0.870070</td>\n",
              "    </tr>\n",
              "    <tr>\n",
              "      <th>7</th>\n",
              "      <td>0.091667</td>\n",
              "      <td>0.780957</td>\n",
              "      <td>0.277344</td>\n",
              "      <td>0.589056</td>\n",
              "      <td>0.60</td>\n",
              "      <td>0.370667</td>\n",
              "      <td>0.729265</td>\n",
              "      <td>0.620733</td>\n",
              "      <td>0.457172</td>\n",
              "      <td>0.0</td>\n",
              "      <td>0.649989</td>\n",
              "      <td>0.500000</td>\n",
              "      <td>0.870070</td>\n",
              "    </tr>\n",
              "    <tr>\n",
              "      <th>...</th>\n",
              "      <td>...</td>\n",
              "      <td>...</td>\n",
              "      <td>...</td>\n",
              "      <td>...</td>\n",
              "      <td>...</td>\n",
              "      <td>...</td>\n",
              "      <td>...</td>\n",
              "      <td>...</td>\n",
              "      <td>...</td>\n",
              "      <td>...</td>\n",
              "      <td>...</td>\n",
              "      <td>...</td>\n",
              "      <td>...</td>\n",
              "    </tr>\n",
              "    <tr>\n",
              "      <th>237954</th>\n",
              "      <td>0.381250</td>\n",
              "      <td>0.566720</td>\n",
              "      <td>0.093750</td>\n",
              "      <td>0.771695</td>\n",
              "      <td>0.76</td>\n",
              "      <td>0.677231</td>\n",
              "      <td>0.775984</td>\n",
              "      <td>0.682076</td>\n",
              "      <td>0.690997</td>\n",
              "      <td>0.0</td>\n",
              "      <td>0.827218</td>\n",
              "      <td>0.961538</td>\n",
              "      <td>0.933875</td>\n",
              "    </tr>\n",
              "    <tr>\n",
              "      <th>237955</th>\n",
              "      <td>0.300000</td>\n",
              "      <td>0.577842</td>\n",
              "      <td>0.347656</td>\n",
              "      <td>0.761906</td>\n",
              "      <td>0.56</td>\n",
              "      <td>0.691795</td>\n",
              "      <td>0.839633</td>\n",
              "      <td>0.732586</td>\n",
              "      <td>0.756850</td>\n",
              "      <td>0.0</td>\n",
              "      <td>0.195686</td>\n",
              "      <td>0.961538</td>\n",
              "      <td>0.868910</td>\n",
              "    </tr>\n",
              "    <tr>\n",
              "      <th>237959</th>\n",
              "      <td>0.095833</td>\n",
              "      <td>0.577842</td>\n",
              "      <td>0.347656</td>\n",
              "      <td>0.565856</td>\n",
              "      <td>0.50</td>\n",
              "      <td>0.497333</td>\n",
              "      <td>0.644619</td>\n",
              "      <td>0.494521</td>\n",
              "      <td>0.510592</td>\n",
              "      <td>0.0</td>\n",
              "      <td>0.873916</td>\n",
              "      <td>0.961538</td>\n",
              "      <td>0.933875</td>\n",
              "    </tr>\n",
              "    <tr>\n",
              "      <th>237960</th>\n",
              "      <td>0.108332</td>\n",
              "      <td>0.577842</td>\n",
              "      <td>0.347656</td>\n",
              "      <td>0.698204</td>\n",
              "      <td>0.60</td>\n",
              "      <td>0.660000</td>\n",
              "      <td>0.783202</td>\n",
              "      <td>0.630054</td>\n",
              "      <td>0.590030</td>\n",
              "      <td>0.0</td>\n",
              "      <td>0.815877</td>\n",
              "      <td>0.961538</td>\n",
              "      <td>0.945476</td>\n",
              "    </tr>\n",
              "    <tr>\n",
              "      <th>237961</th>\n",
              "      <td>0.275000</td>\n",
              "      <td>0.585189</td>\n",
              "      <td>0.398438</td>\n",
              "      <td>0.612917</td>\n",
              "      <td>0.56</td>\n",
              "      <td>0.440821</td>\n",
              "      <td>0.707743</td>\n",
              "      <td>0.645799</td>\n",
              "      <td>0.532696</td>\n",
              "      <td>0.0</td>\n",
              "      <td>0.873916</td>\n",
              "      <td>0.961538</td>\n",
              "      <td>0.933875</td>\n",
              "    </tr>\n",
              "  </tbody>\n",
              "</table>\n",
              "<p>132529 rows × 13 columns</p>\n",
              "</div>\n",
              "      <button class=\"colab-df-convert\" onclick=\"convertToInteractive('df-f1c11eea-ef95-4ab1-a295-dbc6328f54a7')\"\n",
              "              title=\"Convert this dataframe to an interactive table.\"\n",
              "              style=\"display:none;\">\n",
              "        \n",
              "  <svg xmlns=\"http://www.w3.org/2000/svg\" height=\"24px\"viewBox=\"0 0 24 24\"\n",
              "       width=\"24px\">\n",
              "    <path d=\"M0 0h24v24H0V0z\" fill=\"none\"/>\n",
              "    <path d=\"M18.56 5.44l.94 2.06.94-2.06 2.06-.94-2.06-.94-.94-2.06-.94 2.06-2.06.94zm-11 1L8.5 8.5l.94-2.06 2.06-.94-2.06-.94L8.5 2.5l-.94 2.06-2.06.94zm10 10l.94 2.06.94-2.06 2.06-.94-2.06-.94-.94-2.06-.94 2.06-2.06.94z\"/><path d=\"M17.41 7.96l-1.37-1.37c-.4-.4-.92-.59-1.43-.59-.52 0-1.04.2-1.43.59L10.3 9.45l-7.72 7.72c-.78.78-.78 2.05 0 2.83L4 21.41c.39.39.9.59 1.41.59.51 0 1.02-.2 1.41-.59l7.78-7.78 2.81-2.81c.8-.78.8-2.07 0-2.86zM5.41 20L4 18.59l7.72-7.72 1.47 1.35L5.41 20z\"/>\n",
              "  </svg>\n",
              "      </button>\n",
              "      \n",
              "  <style>\n",
              "    .colab-df-container {\n",
              "      display:flex;\n",
              "      flex-wrap:wrap;\n",
              "      gap: 12px;\n",
              "    }\n",
              "\n",
              "    .colab-df-convert {\n",
              "      background-color: #E8F0FE;\n",
              "      border: none;\n",
              "      border-radius: 50%;\n",
              "      cursor: pointer;\n",
              "      display: none;\n",
              "      fill: #1967D2;\n",
              "      height: 32px;\n",
              "      padding: 0 0 0 0;\n",
              "      width: 32px;\n",
              "    }\n",
              "\n",
              "    .colab-df-convert:hover {\n",
              "      background-color: #E2EBFA;\n",
              "      box-shadow: 0px 1px 2px rgba(60, 64, 67, 0.3), 0px 1px 3px 1px rgba(60, 64, 67, 0.15);\n",
              "      fill: #174EA6;\n",
              "    }\n",
              "\n",
              "    [theme=dark] .colab-df-convert {\n",
              "      background-color: #3B4455;\n",
              "      fill: #D2E3FC;\n",
              "    }\n",
              "\n",
              "    [theme=dark] .colab-df-convert:hover {\n",
              "      background-color: #434B5C;\n",
              "      box-shadow: 0px 1px 3px 1px rgba(0, 0, 0, 0.15);\n",
              "      filter: drop-shadow(0px 1px 2px rgba(0, 0, 0, 0.3));\n",
              "      fill: #FFFFFF;\n",
              "    }\n",
              "  </style>\n",
              "\n",
              "      <script>\n",
              "        const buttonEl =\n",
              "          document.querySelector('#df-f1c11eea-ef95-4ab1-a295-dbc6328f54a7 button.colab-df-convert');\n",
              "        buttonEl.style.display =\n",
              "          google.colab.kernel.accessAllowed ? 'block' : 'none';\n",
              "\n",
              "        async function convertToInteractive(key) {\n",
              "          const element = document.querySelector('#df-f1c11eea-ef95-4ab1-a295-dbc6328f54a7');\n",
              "          const dataTable =\n",
              "            await google.colab.kernel.invokeFunction('convertToInteractive',\n",
              "                                                     [key], {});\n",
              "          if (!dataTable) return;\n",
              "\n",
              "          const docLinkHtml = 'Like what you see? Visit the ' +\n",
              "            '<a target=\"_blank\" href=https://colab.research.google.com/notebooks/data_table.ipynb>data table notebook</a>'\n",
              "            + ' to learn more about interactive tables.';\n",
              "          element.innerHTML = '';\n",
              "          dataTable['output_type'] = 'display_data';\n",
              "          await google.colab.output.renderOutput(dataTable, element);\n",
              "          const docLink = document.createElement('div');\n",
              "          docLink.innerHTML = docLinkHtml;\n",
              "          element.appendChild(docLink);\n",
              "        }\n",
              "      </script>\n",
              "    </div>\n",
              "  </div>\n",
              "  "
            ]
          },
          "metadata": {}
        }
      ]
    },
    {
      "cell_type": "code",
      "source": [
        "#Estatística dos dados\n",
        "\n",
        "df_dados.describe()"
      ],
      "metadata": {
        "colab": {
          "base_uri": "https://localhost:8080/",
          "height": 0
        },
        "id": "KYtIKtnt-IAB",
        "outputId": "1525861b-fc7a-4cbf-9240-228e947c4fff"
      },
      "execution_count": 354,
      "outputs": [
        {
          "output_type": "execute_result",
          "data": {
            "text/plain": [
              "       Renda_per_capita     Nota_corte          Curso     Media_Enem  \\\n",
              "count     132529.000000  132529.000000  132529.000000  132529.000000   \n",
              "mean        1014.299655     544.871342     116.661644     538.934670   \n",
              "std          590.784878      58.829836      65.521012      60.356753   \n",
              "min            0.000000     450.020000       0.000000     450.000000   \n",
              "25%          550.000000     503.180000      71.000000     495.340000   \n",
              "50%          900.000000     545.460000     113.000000     528.660000   \n",
              "75%         1300.000000     579.980000     192.000000     569.680000   \n",
              "max         4000.000000     794.820000     256.000000     817.240000   \n",
              "\n",
              "             Redação     Matematica     Linguagens  Ciencias_natureza  \\\n",
              "count  132529.000000  132529.000000  132529.000000      132529.000000   \n",
              "mean      636.863720     511.273027     528.092357         487.908448   \n",
              "std       130.014709      94.252337      54.570407          66.770418   \n",
              "min       400.000000       0.000000     304.400000         271.000000   \n",
              "25%       540.000000     441.800000     493.900000         438.700000   \n",
              "50%       600.000000     500.300000     529.300000         482.800000   \n",
              "75%       720.000000     568.900000     563.200000         531.200000   \n",
              "max      1000.000000     975.000000     762.000000         793.900000   \n",
              "\n",
              "       Ciencias_humanas       Situacao    LocalCidade    LocalEstado  \\\n",
              "count     132529.000000  132529.000000  132529.000000  132529.000000   \n",
              "mean         530.535797       0.163013    2281.116337      13.384920   \n",
              "std           74.086035       0.369379    1335.735446       7.323398   \n",
              "min            0.000000       0.000000       0.000000       0.000000   \n",
              "25%          480.600000       0.000000    1060.000000       6.000000   \n",
              "50%          532.700000       0.000000    2342.000000      13.000000   \n",
              "75%          579.900000       0.000000    3505.000000      19.000000   \n",
              "max          868.600000       1.000000    4497.000000      26.000000   \n",
              "\n",
              "                IDHM  \n",
              "count  132529.000000  \n",
              "mean        0.723308  \n",
              "std         0.070527  \n",
              "min         0.418000  \n",
              "25%         0.683000  \n",
              "50%         0.737000  \n",
              "75%         0.770000  \n",
              "max         0.862000  "
            ],
            "text/html": [
              "\n",
              "  <div id=\"df-908db6c5-08ed-4d48-a6e6-572e7d3865d9\">\n",
              "    <div class=\"colab-df-container\">\n",
              "      <div>\n",
              "<style scoped>\n",
              "    .dataframe tbody tr th:only-of-type {\n",
              "        vertical-align: middle;\n",
              "    }\n",
              "\n",
              "    .dataframe tbody tr th {\n",
              "        vertical-align: top;\n",
              "    }\n",
              "\n",
              "    .dataframe thead th {\n",
              "        text-align: right;\n",
              "    }\n",
              "</style>\n",
              "<table border=\"1\" class=\"dataframe\">\n",
              "  <thead>\n",
              "    <tr style=\"text-align: right;\">\n",
              "      <th></th>\n",
              "      <th>Renda_per_capita</th>\n",
              "      <th>Nota_corte</th>\n",
              "      <th>Curso</th>\n",
              "      <th>Media_Enem</th>\n",
              "      <th>Redação</th>\n",
              "      <th>Matematica</th>\n",
              "      <th>Linguagens</th>\n",
              "      <th>Ciencias_natureza</th>\n",
              "      <th>Ciencias_humanas</th>\n",
              "      <th>Situacao</th>\n",
              "      <th>LocalCidade</th>\n",
              "      <th>LocalEstado</th>\n",
              "      <th>IDHM</th>\n",
              "    </tr>\n",
              "  </thead>\n",
              "  <tbody>\n",
              "    <tr>\n",
              "      <th>count</th>\n",
              "      <td>132529.000000</td>\n",
              "      <td>132529.000000</td>\n",
              "      <td>132529.000000</td>\n",
              "      <td>132529.000000</td>\n",
              "      <td>132529.000000</td>\n",
              "      <td>132529.000000</td>\n",
              "      <td>132529.000000</td>\n",
              "      <td>132529.000000</td>\n",
              "      <td>132529.000000</td>\n",
              "      <td>132529.000000</td>\n",
              "      <td>132529.000000</td>\n",
              "      <td>132529.000000</td>\n",
              "      <td>132529.000000</td>\n",
              "    </tr>\n",
              "    <tr>\n",
              "      <th>mean</th>\n",
              "      <td>1014.299655</td>\n",
              "      <td>544.871342</td>\n",
              "      <td>116.661644</td>\n",
              "      <td>538.934670</td>\n",
              "      <td>636.863720</td>\n",
              "      <td>511.273027</td>\n",
              "      <td>528.092357</td>\n",
              "      <td>487.908448</td>\n",
              "      <td>530.535797</td>\n",
              "      <td>0.163013</td>\n",
              "      <td>2281.116337</td>\n",
              "      <td>13.384920</td>\n",
              "      <td>0.723308</td>\n",
              "    </tr>\n",
              "    <tr>\n",
              "      <th>std</th>\n",
              "      <td>590.784878</td>\n",
              "      <td>58.829836</td>\n",
              "      <td>65.521012</td>\n",
              "      <td>60.356753</td>\n",
              "      <td>130.014709</td>\n",
              "      <td>94.252337</td>\n",
              "      <td>54.570407</td>\n",
              "      <td>66.770418</td>\n",
              "      <td>74.086035</td>\n",
              "      <td>0.369379</td>\n",
              "      <td>1335.735446</td>\n",
              "      <td>7.323398</td>\n",
              "      <td>0.070527</td>\n",
              "    </tr>\n",
              "    <tr>\n",
              "      <th>min</th>\n",
              "      <td>0.000000</td>\n",
              "      <td>450.020000</td>\n",
              "      <td>0.000000</td>\n",
              "      <td>450.000000</td>\n",
              "      <td>400.000000</td>\n",
              "      <td>0.000000</td>\n",
              "      <td>304.400000</td>\n",
              "      <td>271.000000</td>\n",
              "      <td>0.000000</td>\n",
              "      <td>0.000000</td>\n",
              "      <td>0.000000</td>\n",
              "      <td>0.000000</td>\n",
              "      <td>0.418000</td>\n",
              "    </tr>\n",
              "    <tr>\n",
              "      <th>25%</th>\n",
              "      <td>550.000000</td>\n",
              "      <td>503.180000</td>\n",
              "      <td>71.000000</td>\n",
              "      <td>495.340000</td>\n",
              "      <td>540.000000</td>\n",
              "      <td>441.800000</td>\n",
              "      <td>493.900000</td>\n",
              "      <td>438.700000</td>\n",
              "      <td>480.600000</td>\n",
              "      <td>0.000000</td>\n",
              "      <td>1060.000000</td>\n",
              "      <td>6.000000</td>\n",
              "      <td>0.683000</td>\n",
              "    </tr>\n",
              "    <tr>\n",
              "      <th>50%</th>\n",
              "      <td>900.000000</td>\n",
              "      <td>545.460000</td>\n",
              "      <td>113.000000</td>\n",
              "      <td>528.660000</td>\n",
              "      <td>600.000000</td>\n",
              "      <td>500.300000</td>\n",
              "      <td>529.300000</td>\n",
              "      <td>482.800000</td>\n",
              "      <td>532.700000</td>\n",
              "      <td>0.000000</td>\n",
              "      <td>2342.000000</td>\n",
              "      <td>13.000000</td>\n",
              "      <td>0.737000</td>\n",
              "    </tr>\n",
              "    <tr>\n",
              "      <th>75%</th>\n",
              "      <td>1300.000000</td>\n",
              "      <td>579.980000</td>\n",
              "      <td>192.000000</td>\n",
              "      <td>569.680000</td>\n",
              "      <td>720.000000</td>\n",
              "      <td>568.900000</td>\n",
              "      <td>563.200000</td>\n",
              "      <td>531.200000</td>\n",
              "      <td>579.900000</td>\n",
              "      <td>0.000000</td>\n",
              "      <td>3505.000000</td>\n",
              "      <td>19.000000</td>\n",
              "      <td>0.770000</td>\n",
              "    </tr>\n",
              "    <tr>\n",
              "      <th>max</th>\n",
              "      <td>4000.000000</td>\n",
              "      <td>794.820000</td>\n",
              "      <td>256.000000</td>\n",
              "      <td>817.240000</td>\n",
              "      <td>1000.000000</td>\n",
              "      <td>975.000000</td>\n",
              "      <td>762.000000</td>\n",
              "      <td>793.900000</td>\n",
              "      <td>868.600000</td>\n",
              "      <td>1.000000</td>\n",
              "      <td>4497.000000</td>\n",
              "      <td>26.000000</td>\n",
              "      <td>0.862000</td>\n",
              "    </tr>\n",
              "  </tbody>\n",
              "</table>\n",
              "</div>\n",
              "      <button class=\"colab-df-convert\" onclick=\"convertToInteractive('df-908db6c5-08ed-4d48-a6e6-572e7d3865d9')\"\n",
              "              title=\"Convert this dataframe to an interactive table.\"\n",
              "              style=\"display:none;\">\n",
              "        \n",
              "  <svg xmlns=\"http://www.w3.org/2000/svg\" height=\"24px\"viewBox=\"0 0 24 24\"\n",
              "       width=\"24px\">\n",
              "    <path d=\"M0 0h24v24H0V0z\" fill=\"none\"/>\n",
              "    <path d=\"M18.56 5.44l.94 2.06.94-2.06 2.06-.94-2.06-.94-.94-2.06-.94 2.06-2.06.94zm-11 1L8.5 8.5l.94-2.06 2.06-.94-2.06-.94L8.5 2.5l-.94 2.06-2.06.94zm10 10l.94 2.06.94-2.06 2.06-.94-2.06-.94-.94-2.06-.94 2.06-2.06.94z\"/><path d=\"M17.41 7.96l-1.37-1.37c-.4-.4-.92-.59-1.43-.59-.52 0-1.04.2-1.43.59L10.3 9.45l-7.72 7.72c-.78.78-.78 2.05 0 2.83L4 21.41c.39.39.9.59 1.41.59.51 0 1.02-.2 1.41-.59l7.78-7.78 2.81-2.81c.8-.78.8-2.07 0-2.86zM5.41 20L4 18.59l7.72-7.72 1.47 1.35L5.41 20z\"/>\n",
              "  </svg>\n",
              "      </button>\n",
              "      \n",
              "  <style>\n",
              "    .colab-df-container {\n",
              "      display:flex;\n",
              "      flex-wrap:wrap;\n",
              "      gap: 12px;\n",
              "    }\n",
              "\n",
              "    .colab-df-convert {\n",
              "      background-color: #E8F0FE;\n",
              "      border: none;\n",
              "      border-radius: 50%;\n",
              "      cursor: pointer;\n",
              "      display: none;\n",
              "      fill: #1967D2;\n",
              "      height: 32px;\n",
              "      padding: 0 0 0 0;\n",
              "      width: 32px;\n",
              "    }\n",
              "\n",
              "    .colab-df-convert:hover {\n",
              "      background-color: #E2EBFA;\n",
              "      box-shadow: 0px 1px 2px rgba(60, 64, 67, 0.3), 0px 1px 3px 1px rgba(60, 64, 67, 0.15);\n",
              "      fill: #174EA6;\n",
              "    }\n",
              "\n",
              "    [theme=dark] .colab-df-convert {\n",
              "      background-color: #3B4455;\n",
              "      fill: #D2E3FC;\n",
              "    }\n",
              "\n",
              "    [theme=dark] .colab-df-convert:hover {\n",
              "      background-color: #434B5C;\n",
              "      box-shadow: 0px 1px 3px 1px rgba(0, 0, 0, 0.15);\n",
              "      filter: drop-shadow(0px 1px 2px rgba(0, 0, 0, 0.3));\n",
              "      fill: #FFFFFF;\n",
              "    }\n",
              "  </style>\n",
              "\n",
              "      <script>\n",
              "        const buttonEl =\n",
              "          document.querySelector('#df-908db6c5-08ed-4d48-a6e6-572e7d3865d9 button.colab-df-convert');\n",
              "        buttonEl.style.display =\n",
              "          google.colab.kernel.accessAllowed ? 'block' : 'none';\n",
              "\n",
              "        async function convertToInteractive(key) {\n",
              "          const element = document.querySelector('#df-908db6c5-08ed-4d48-a6e6-572e7d3865d9');\n",
              "          const dataTable =\n",
              "            await google.colab.kernel.invokeFunction('convertToInteractive',\n",
              "                                                     [key], {});\n",
              "          if (!dataTable) return;\n",
              "\n",
              "          const docLinkHtml = 'Like what you see? Visit the ' +\n",
              "            '<a target=\"_blank\" href=https://colab.research.google.com/notebooks/data_table.ipynb>data table notebook</a>'\n",
              "            + ' to learn more about interactive tables.';\n",
              "          element.innerHTML = '';\n",
              "          dataTable['output_type'] = 'display_data';\n",
              "          await google.colab.output.renderOutput(dataTable, element);\n",
              "          const docLink = document.createElement('div');\n",
              "          docLink.innerHTML = docLinkHtml;\n",
              "          element.appendChild(docLink);\n",
              "        }\n",
              "      </script>\n",
              "    </div>\n",
              "  </div>\n",
              "  "
            ]
          },
          "metadata": {},
          "execution_count": 354
        }
      ]
    },
    {
      "cell_type": "markdown",
      "source": [
        "#ML\n"
      ],
      "metadata": {
        "id": "fyOJkj36TFlu"
      }
    },
    {
      "cell_type": "code",
      "source": [
        "# Análise correlação\n",
        "\n",
        "plt.figure(figsize=(10, 7))\n",
        "sns.heatmap(df_dados.corr(),\n",
        "            annot = True,\n",
        "            fmt = '.2f',\n",
        "            cmap='Blues')\n",
        "plt.title('Correlação entre as variáveis')\n",
        "plt.show()"
      ],
      "metadata": {
        "colab": {
          "base_uri": "https://localhost:8080/",
          "height": 528
        },
        "id": "0wSmAW5plDXW",
        "outputId": "41913e9a-705a-4fce-e68d-891ff11e9514"
      },
      "execution_count": 355,
      "outputs": [
        {
          "output_type": "display_data",
          "data": {
            "text/plain": [
              "<Figure size 720x504 with 2 Axes>"
            ],
            "image/png": "[encoded data removed]"
          },
          "metadata": {
            "needs_background": "light"
          }
        }
      ]
    },
    {
      "cell_type": "code",
      "source": [
        "# Verificando balanceamento da coluna alvo\n",
        "\n",
        "balance = df_dados['Situacao'].value_counts(normalize=True).round(2)\n",
        "balance.index = balance.index.map({0:'NÃO CONTRATADO', 1:'CONTRATADA'})\n",
        "balance * 100"
      ],
      "metadata": {
        "colab": {
          "base_uri": "https://localhost:8080/"
        },
        "id": "HBfwgHQRiVey",
        "outputId": "2aba000e-202b-4960-b02d-fed1ce28aef9"
      },
      "execution_count": 356,
      "outputs": [
        {
          "output_type": "execute_result",
          "data": {
            "text/plain": [
              "NÃO CONTRATADO    84.0\n",
              "CONTRATADA        16.0\n",
              "Name: Situacao, dtype: float64"
            ]
          },
          "metadata": {},
          "execution_count": 356
        }
      ]
    },
    {
      "cell_type": "code",
      "source": [
        "# Total não efetivados\n",
        "df_maior = df_dados[df_dados['Situacao'] == 0] \n",
        "print('linhas:', df_maior.shape[0])"
      ],
      "metadata": {
        "colab": {
          "base_uri": "https://localhost:8080/"
        },
        "id": "bjdStqHxliEu",
        "outputId": "01f1d83f-ca00-47ad-add5-c3b66ddcfb73"
      },
      "execution_count": 357,
      "outputs": [
        {
          "output_type": "stream",
          "name": "stdout",
          "text": [
            "linhas: 110925\n"
          ]
        }
      ]
    },
    {
      "cell_type": "code",
      "source": [
        "# Total efetivados\n",
        "df_menor = df_dados[df_dados['Situacao'] == 1] \n",
        "print('linhas:', df_menor.shape[0])"
      ],
      "metadata": {
        "colab": {
          "base_uri": "https://localhost:8080/"
        },
        "id": "sehLbZY0l1DF",
        "outputId": "40eb2291-cd9d-4126-e28a-f12e91d2b432"
      },
      "execution_count": 358,
      "outputs": [
        {
          "output_type": "stream",
          "name": "stdout",
          "text": [
            "linhas: 21604\n"
          ]
        }
      ]
    },
    {
      "cell_type": "code",
      "source": [
        "# Igualando quantidade de registros SIM/NÃO\n",
        "df_unsampled = resample(df_maior, replace = True, n_samples=21603, random_state=123)"
      ],
      "metadata": {
        "id": "hwUPdOmCl9eA"
      },
      "execution_count": 359,
      "outputs": []
    },
    {
      "cell_type": "code",
      "source": [
        "# Concatenando registros SIM/NÃO\n",
        "df_dados = pd.concat([df_unsampled, df_menor])\n",
        "df_dados.info()"
      ],
      "metadata": {
        "colab": {
          "base_uri": "https://localhost:8080/"
        },
        "id": "sXZJqrltmAyA",
        "outputId": "dc9dafab-e9b1-49bf-c36e-74dac88a29f4"
      },
      "execution_count": 360,
      "outputs": [
        {
          "output_type": "stream",
          "name": "stdout",
          "text": [
            "<class 'pandas.core.frame.DataFrame'>\n",
            "Int64Index: 43207 entries, 41337 to 237924\n",
            "Data columns (total 13 columns):\n",
            " #   Column             Non-Null Count  Dtype  \n",
            "---  ------             --------------  -----  \n",
            " 0   Renda_per_capita   43207 non-null  float64\n",
            " 1   Nota_corte         43207 non-null  float64\n",
            " 2   Curso              43207 non-null  int64  \n",
            " 3   Media_Enem         43207 non-null  float64\n",
            " 4   Redação            43207 non-null  int64  \n",
            " 5   Matematica         43207 non-null  float64\n",
            " 6   Linguagens         43207 non-null  float64\n",
            " 7   Ciencias_natureza  43207 non-null  float64\n",
            " 8   Ciencias_humanas   43207 non-null  float64\n",
            " 9   Situacao           43207 non-null  int64  \n",
            " 10  LocalCidade        43207 non-null  int64  \n",
            " 11  LocalEstado        43207 non-null  int64  \n",
            " 12  IDHM               43207 non-null  float64\n",
            "dtypes: float64(8), int64(5)\n",
            "memory usage: 4.6 MB\n"
          ]
        }
      ]
    },
    {
      "cell_type": "code",
      "source": [
        "# Análise balanceamento\n",
        "\n",
        "import plotly.express as px\n",
        "plot_ = df_dados['Situacao'].map({1:'CONTRATADA', 0:'NÃO CONTRATADO'}).value_counts().reset_index()\n",
        "fig = px.bar(plot_, \n",
        "        x='index', \n",
        "        y='Situacao',\n",
        "        labels={'index':'Alvo', 'Situacao':''},\n",
        "        title='Balanceamente do Alvo',\n",
        "        width=600)\n",
        "fig.update_xaxes(type='category')\n",
        "fig.show()"
      ],
      "metadata": {
        "colab": {
          "base_uri": "https://localhost:8080/",
          "height": 542
        },
        "id": "RYjusp2VPKE0",
        "outputId": "9684bfcf-dd0d-431b-fc36-5c7ec628797f"
      },
      "execution_count": 361,
      "outputs": [
        {
          "output_type": "display_data",
          "data": {
            "text/html": [
              "<html>\n",
              "<head><meta charset=\"utf-8\" /></head>\n",
              "<body>\n",
              "    <div>            <script src=\"https://cdnjs.cloudflare.com/ajax/libs/mathjax/2.7.5/MathJax.js?config=TeX-AMS-MML_SVG\"></script><script type=\"text/javascript\">if (window.MathJax) {MathJax.Hub.Config({SVG: {font: \"STIX-Web\"}});}</script>                <script type=\"text/javascript\">window.PlotlyConfig = {MathJaxConfig: 'local'};</script>\n",
              "        <script src=\"https://cdn.plot.ly/plotly-2.8.3.min.js\"></script>                <div id=\"63917ec9-40e0-4a0c-88b2-8afb836715f9\" class=\"plotly-graph-div\" style=\"height:525px; width:600px;\"></div>            <script type=\"text/javascript\">                                    window.PLOTLYENV=window.PLOTLYENV || {};                                    if (document.getElementById(\"63917ec9-40e0-4a0c-88b2-8afb836715f9\")) {                    Plotly.newPlot(                        \"63917ec9-40e0-4a0c-88b2-8afb836715f9\",                        [{\"alignmentgroup\":\"True\",\"hovertemplate\":\"Alvo=%{x}<br>=%{y}<extra></extra>\",\"legendgroup\":\"\",\"marker\":{\"color\":\"#636efa\",\"pattern\":{\"shape\":\"\"}},\"name\":\"\",\"offsetgroup\":\"\",\"orientation\":\"v\",\"showlegend\":false,\"textposition\":\"auto\",\"x\":[\"CONTRATADA\",\"N\\u00c3O CONTRATADO\"],\"xaxis\":\"x\",\"y\":[21604,21603],\"yaxis\":\"y\",\"type\":\"bar\"}],                        {\"template\":{\"data\":{\"bar\":[{\"error_x\":{\"color\":\"#2a3f5f\"},\"error_y\":{\"color\":\"#2a3f5f\"},\"marker\":{\"line\":{\"color\":\"#E5ECF6\",\"width\":0.5},\"pattern\":{\"fillmode\":\"overlay\",\"size\":10,\"solidity\":0.2}},\"type\":\"bar\"}],\"barpolar\":[{\"marker\":{\"line\":{\"color\":\"#E5ECF6\",\"width\":0.5},\"pattern\":{\"fillmode\":\"overlay\",\"size\":10,\"solidity\":0.2}},\"type\":\"barpolar\"}],\"carpet\":[{\"aaxis\":{\"endlinecolor\":\"#2a3f5f\",\"gridcolor\":\"white\",\"linecolor\":\"white\",\"minorgridcolor\":\"white\",\"startlinecolor\":\"#2a3f5f\"},\"baxis\":{\"endlinecolor\":\"#2a3f5f\",\"gridcolor\":\"white\",\"linecolor\":\"white\",\"minorgridcolor\":\"white\",\"startlinecolor\":\"#2a3f5f\"},\"type\":\"carpet\"}],\"choropleth\":[{\"colorbar\":{\"outlinewidth\":0,\"ticks\":\"\"},\"type\":\"choropleth\"}],\"contour\":[{\"colorbar\":{\"outlinewidth\":0,\"ticks\":\"\"},\"colorscale\":[[0.0,\"#0d0887\"],[0.1111111111111111,\"#46039f\"],[0.2222222222222222,\"#7201a8\"],[0.3333333333333333,\"#9c179e\"],[0.4444444444444444,\"#bd3786\"],[0.5555555555555556,\"#d8576b\"],[0.6666666666666666,\"#ed7953\"],[0.7777777777777778,\"#fb9f3a\"],[0.8888888888888888,\"#fdca26\"],[1.0,\"#f0f921\"]],\"type\":\"contour\"}],\"contourcarpet\":[{\"colorbar\":{\"outlinewidth\":0,\"ticks\":\"\"},\"type\":\"contourcarpet\"}],\"heatmap\":[{\"colorbar\":{\"outlinewidth\":0,\"ticks\":\"\"},\"colorscale\":[[0.0,\"#0d0887\"],[0.1111111111111111,\"#46039f\"],[0.2222222222222222,\"#7201a8\"],[0.3333333333333333,\"#9c179e\"],[0.4444444444444444,\"#bd3786\"],[0.5555555555555556,\"#d8576b\"],[0.6666666666666666,\"#ed7953\"],[0.7777777777777778,\"#fb9f3a\"],[0.8888888888888888,\"#fdca26\"],[1.0,\"#f0f921\"]],\"type\":\"heatmap\"}],\"heatmapgl\":[{\"colorbar\":{\"outlinewidth\":0,\"ticks\":\"\"},\"colorscale\":[[0.0,\"#0d0887\"],[0.1111111111111111,\"#46039f\"],[0.2222222222222222,\"#7201a8\"],[0.3333333333333333,\"#9c179e\"],[0.4444444444444444,\"#bd3786\"],[0.5555555555555556,\"#d8576b\"],[0.6666666666666666,\"#ed7953\"],[0.7777777777777778,\"#fb9f3a\"],[0.8888888888888888,\"#fdca26\"],[1.0,\"#f0f921\"]],\"type\":\"heatmapgl\"}],\"histogram\":[{\"marker\":{\"pattern\":{\"fillmode\":\"overlay\",\"size\":10,\"solidity\":0.2}},\"type\":\"histogram\"}],\"histogram2d\":[{\"colorbar\":{\"outlinewidth\":0,\"ticks\":\"\"},\"colorscale\":[[0.0,\"#0d0887\"],[0.1111111111111111,\"#46039f\"],[0.2222222222222222,\"#7201a8\"],[0.3333333333333333,\"#9c179e\"],[0.4444444444444444,\"#bd3786\"],[0.5555555555555556,\"#d8576b\"],[0.6666666666666666,\"#ed7953\"],[0.7777777777777778,\"#fb9f3a\"],[0.8888888888888888,\"#fdca26\"],[1.0,\"#f0f921\"]],\"type\":\"histogram2d\"}],\"histogram2dcontour\":[{\"colorbar\":{\"outlinewidth\":0,\"ticks\":\"\"},\"colorscale\":[[0.0,\"#0d0887\"],[0.1111111111111111,\"#46039f\"],[0.2222222222222222,\"#7201a8\"],[0.3333333333333333,\"#9c179e\"],[0.4444444444444444,\"#bd3786\"],[0.5555555555555556,\"#d8576b\"],[0.6666666666666666,\"#ed7953\"],[0.7777777777777778,\"#fb9f3a\"],[0.8888888888888888,\"#fdca26\"],[1.0,\"#f0f921\"]],\"type\":\"histogram2dcontour\"}],\"mesh3d\":[{\"colorbar\":{\"outlinewidth\":0,\"ticks\":\"\"},\"type\":\"mesh3d\"}],\"parcoords\":[{\"line\":{\"colorbar\":{\"outlinewidth\":0,\"ticks\":\"\"}},\"type\":\"parcoords\"}],\"pie\":[{\"automargin\":true,\"type\":\"pie\"}],\"scatter\":[{\"marker\":{\"colorbar\":{\"outlinewidth\":0,\"ticks\":\"\"}},\"type\":\"scatter\"}],\"scatter3d\":[{\"line\":{\"colorbar\":{\"outlinewidth\":0,\"ticks\":\"\"}},\"marker\":{\"colorbar\":{\"outlinewidth\":0,\"ticks\":\"\"}},\"type\":\"scatter3d\"}],\"scattercarpet\":[{\"marker\":{\"colorbar\":{\"outlinewidth\":0,\"ticks\":\"\"}},\"type\":\"scattercarpet\"}],\"scattergeo\":[{\"marker\":{\"colorbar\":{\"outlinewidth\":0,\"ticks\":\"\"}},\"type\":\"scattergeo\"}],\"scattergl\":[{\"marker\":{\"colorbar\":{\"outlinewidth\":0,\"ticks\":\"\"}},\"type\":\"scattergl\"}],\"scattermapbox\":[{\"marker\":{\"colorbar\":{\"outlinewidth\":0,\"ticks\":\"\"}},\"type\":\"scattermapbox\"}],\"scatterpolar\":[{\"marker\":{\"colorbar\":{\"outlinewidth\":0,\"ticks\":\"\"}},\"type\":\"scatterpolar\"}],\"scatterpolargl\":[{\"marker\":{\"colorbar\":{\"outlinewidth\":0,\"ticks\":\"\"}},\"type\":\"scatterpolargl\"}],\"scatterternary\":[{\"marker\":{\"colorbar\":{\"outlinewidth\":0,\"ticks\":\"\"}},\"type\":\"scatterternary\"}],\"surface\":[{\"colorbar\":{\"outlinewidth\":0,\"ticks\":\"\"},\"colorscale\":[[0.0,\"#0d0887\"],[0.1111111111111111,\"#46039f\"],[0.2222222222222222,\"#7201a8\"],[0.3333333333333333,\"#9c179e\"],[0.4444444444444444,\"#bd3786\"],[0.5555555555555556,\"#d8576b\"],[0.6666666666666666,\"#ed7953\"],[0.7777777777777778,\"#fb9f3a\"],[0.8888888888888888,\"#fdca26\"],[1.0,\"#f0f921\"]],\"type\":\"surface\"}],\"table\":[{\"cells\":{\"fill\":{\"color\":\"#EBF0F8\"},\"line\":{\"color\":\"white\"}},\"header\":{\"fill\":{\"color\":\"#C8D4E3\"},\"line\":{\"color\":\"white\"}},\"type\":\"table\"}]},\"layout\":{\"annotationdefaults\":{\"arrowcolor\":\"#2a3f5f\",\"arrowhead\":0,\"arrowwidth\":1},\"autotypenumbers\":\"strict\",\"coloraxis\":{\"colorbar\":{\"outlinewidth\":0,\"ticks\":\"\"}},\"colorscale\":{\"diverging\":[[0,\"#8e0152\"],[0.1,\"#c51b7d\"],[0.2,\"#de77ae\"],[0.3,\"#f1b6da\"],[0.4,\"#fde0ef\"],[0.5,\"#f7f7f7\"],[0.6,\"#e6f5d0\"],[0.7,\"#b8e186\"],[0.8,\"#7fbc41\"],[0.9,\"#4d9221\"],[1,\"#276419\"]],\"sequential\":[[0.0,\"#0d0887\"],[0.1111111111111111,\"#46039f\"],[0.2222222222222222,\"#7201a8\"],[0.3333333333333333,\"#9c179e\"],[0.4444444444444444,\"#bd3786\"],[0.5555555555555556,\"#d8576b\"],[0.6666666666666666,\"#ed7953\"],[0.7777777777777778,\"#fb9f3a\"],[0.8888888888888888,\"#fdca26\"],[1.0,\"#f0f921\"]],\"sequentialminus\":[[0.0,\"#0d0887\"],[0.1111111111111111,\"#46039f\"],[0.2222222222222222,\"#7201a8\"],[0.3333333333333333,\"#9c179e\"],[0.4444444444444444,\"#bd3786\"],[0.5555555555555556,\"#d8576b\"],[0.6666666666666666,\"#ed7953\"],[0.7777777777777778,\"#fb9f3a\"],[0.8888888888888888,\"#fdca26\"],[1.0,\"#f0f921\"]]},\"colorway\":[\"#636efa\",\"#EF553B\",\"#00cc96\",\"#ab63fa\",\"#FFA15A\",\"#19d3f3\",\"#FF6692\",\"#B6E880\",\"#FF97FF\",\"#FECB52\"],\"font\":{\"color\":\"#2a3f5f\"},\"geo\":{\"bgcolor\":\"white\",\"lakecolor\":\"white\",\"landcolor\":\"#E5ECF6\",\"showlakes\":true,\"showland\":true,\"subunitcolor\":\"white\"},\"hoverlabel\":{\"align\":\"left\"},\"hovermode\":\"closest\",\"mapbox\":{\"style\":\"light\"},\"paper_bgcolor\":\"white\",\"plot_bgcolor\":\"#E5ECF6\",\"polar\":{\"angularaxis\":{\"gridcolor\":\"white\",\"linecolor\":\"white\",\"ticks\":\"\"},\"bgcolor\":\"#E5ECF6\",\"radialaxis\":{\"gridcolor\":\"white\",\"linecolor\":\"white\",\"ticks\":\"\"}},\"scene\":{\"xaxis\":{\"backgroundcolor\":\"#E5ECF6\",\"gridcolor\":\"white\",\"gridwidth\":2,\"linecolor\":\"white\",\"showbackground\":true,\"ticks\":\"\",\"zerolinecolor\":\"white\"},\"yaxis\":{\"backgroundcolor\":\"#E5ECF6\",\"gridcolor\":\"white\",\"gridwidth\":2,\"linecolor\":\"white\",\"showbackground\":true,\"ticks\":\"\",\"zerolinecolor\":\"white\"},\"zaxis\":{\"backgroundcolor\":\"#E5ECF6\",\"gridcolor\":\"white\",\"gridwidth\":2,\"linecolor\":\"white\",\"showbackground\":true,\"ticks\":\"\",\"zerolinecolor\":\"white\"}},\"shapedefaults\":{\"line\":{\"color\":\"#2a3f5f\"}},\"ternary\":{\"aaxis\":{\"gridcolor\":\"white\",\"linecolor\":\"white\",\"ticks\":\"\"},\"baxis\":{\"gridcolor\":\"white\",\"linecolor\":\"white\",\"ticks\":\"\"},\"bgcolor\":\"#E5ECF6\",\"caxis\":{\"gridcolor\":\"white\",\"linecolor\":\"white\",\"ticks\":\"\"}},\"title\":{\"x\":0.05},\"xaxis\":{\"automargin\":true,\"gridcolor\":\"white\",\"linecolor\":\"white\",\"ticks\":\"\",\"title\":{\"standoff\":15},\"zerolinecolor\":\"white\",\"zerolinewidth\":2},\"yaxis\":{\"automargin\":true,\"gridcolor\":\"white\",\"linecolor\":\"white\",\"ticks\":\"\",\"title\":{\"standoff\":15},\"zerolinecolor\":\"white\",\"zerolinewidth\":2}}},\"xaxis\":{\"anchor\":\"y\",\"domain\":[0.0,1.0],\"title\":{\"text\":\"Alvo\"},\"type\":\"category\"},\"yaxis\":{\"anchor\":\"x\",\"domain\":[0.0,1.0],\"title\":{\"text\":\"\"}},\"legend\":{\"tracegroupgap\":0},\"title\":{\"text\":\"Balanceamente do Alvo\"},\"barmode\":\"relative\",\"width\":600},                        {\"responsive\": true}                    ).then(function(){\n",
              "                            \n",
              "var gd = document.getElementById('63917ec9-40e0-4a0c-88b2-8afb836715f9');\n",
              "var x = new MutationObserver(function (mutations, observer) {{\n",
              "        var display = window.getComputedStyle(gd).display;\n",
              "        if (!display || display === 'none') {{\n",
              "            console.log([gd, 'removed!']);\n",
              "            Plotly.purge(gd);\n",
              "            observer.disconnect();\n",
              "        }}\n",
              "}});\n",
              "\n",
              "// Listen for the removal of the full notebook cells\n",
              "var notebookContainer = gd.closest('#notebook-container');\n",
              "if (notebookContainer) {{\n",
              "    x.observe(notebookContainer, {childList: true});\n",
              "}}\n",
              "\n",
              "// Listen for the clearing of the current output cell\n",
              "var outputEl = gd.closest('.output');\n",
              "if (outputEl) {{\n",
              "    x.observe(outputEl, {childList: true});\n",
              "}}\n",
              "\n",
              "                        })                };                            </script>        </div>\n",
              "</body>\n",
              "</html>"
            ]
          },
          "metadata": {}
        }
      ]
    },
    {
      "cell_type": "code",
      "source": [
        "# Separação dos Dados - Dataframe\n",
        "Var_Caracteristicas = df_dados.drop(columns='Situacao')\n",
        "Var_Previsao = df_dados['Situacao']\n",
        "\n",
        "# Separação dos Dados - Treino/Teste\n",
        "x_treino, x_teste, y_treino, y_teste = train_test_split(Var_Caracteristicas, Var_Previsao,test_size=0.20, random_state=10)\n",
        "\n",
        "print(f'Dados de treino: {len(x_treino)} ')\n",
        "print(f'Dados de teste: {len(x_teste)} ')"
      ],
      "metadata": {
        "colab": {
          "base_uri": "https://localhost:8080/"
        },
        "id": "MVJALqszQxBo",
        "outputId": "396b2ee9-5303-45c2-a4e5-62b638f055fb"
      },
      "execution_count": 362,
      "outputs": [
        {
          "output_type": "stream",
          "name": "stdout",
          "text": [
            "Dados de treino: 34565 \n",
            "Dados de teste: 8642 \n"
          ]
        }
      ]
    },
    {
      "cell_type": "markdown",
      "source": [
        "Regressão Logística"
      ],
      "metadata": {
        "id": "WkedryEh3v5Y"
      }
    },
    {
      "cell_type": "code",
      "source": [
        "# Criação do modelo\n",
        "\n",
        "logistic_regression = LogisticRegression(random_state= 42, max_iter=10000)\n",
        "logistic_regression.fit(x_treino, y_treino)\n",
        "\n",
        "# Classificação\n",
        "Train_predict = logistic_regression.predict(x_teste)\n",
        "print(classification_report(y_teste, Train_predict))\n",
        "\n",
        "# Acurácia\n",
        "resultado = logistic_regression.score(x_teste, y_teste)\n",
        "print('Acurácia:', resultado)"
      ],
      "metadata": {
        "colab": {
          "base_uri": "https://localhost:8080/"
        },
        "id": "pK0-X_fdITMN",
        "outputId": "7fe55851-6a1c-4e81-a771-040cc3292a65"
      },
      "execution_count": 372,
      "outputs": [
        {
          "output_type": "stream",
          "name": "stdout",
          "text": [
            "              precision    recall  f1-score   support\n",
            "\n",
            "           0       0.60      0.54      0.57      4294\n",
            "           1       0.59      0.64      0.61      4348\n",
            "\n",
            "    accuracy                           0.59      8642\n",
            "   macro avg       0.59      0.59      0.59      8642\n",
            "weighted avg       0.59      0.59      0.59      8642\n",
            "\n",
            "Acurácia: 0.5930340199028002\n"
          ]
        }
      ]
    },
    {
      "cell_type": "code",
      "source": [
        "# Matriz de Confusão - Regressão Logística\n",
        "\n",
        "fig, ax = plt.subplots()\n",
        "sns.heatmap(confusion_matrix(y_teste, Train_predict), annot=True, \n",
        "            ax=ax, fmt='d', cmap='Reds')\n",
        "ax.set_title(\"Matriz de Confusão - Regressão Logística\", fontsize=18)\n",
        "ax.set_ylabel(\"True label\")\n",
        "ax.set_xlabel(\"Predicted Label\")\n",
        "plt.tight_layout()"
      ],
      "metadata": {
        "colab": {
          "base_uri": "https://localhost:8080/",
          "height": 297
        },
        "id": "My8pSsNv_Ma-",
        "outputId": "2d764bbf-096f-4007-ee43-ed2968160c13"
      },
      "execution_count": 373,
      "outputs": [
        {
          "output_type": "display_data",
          "data": {
            "text/plain": [
              "<Figure size 432x288 with 2 Axes>"
            ],
            "image/png": "[encoded data removed]"
          },
          "metadata": {
            "needs_background": "light"
          }
        }
      ]
    },
    {
      "cell_type": "code",
      "source": [
        "# Curva ROC - Regressão Logística\n",
        "\n",
        "y_pred_probability = logistic_regression.predict_proba(x_teste)[::,1]\n",
        "fpr, tpr, _ = metrics.roc_curve(y_teste,  y_pred_probability)\n",
        "auc = metrics.roc_auc_score(y_teste, y_pred_probability)\n",
        "plt.plot(fpr,tpr,label=\"Logistic Regression, auc=\"+str(auc))\n",
        "plt.legend(loc=4)\n",
        "plt.show()"
      ],
      "metadata": {
        "colab": {
          "base_uri": "https://localhost:8080/",
          "height": 265
        },
        "id": "lKOKK5--3azE",
        "outputId": "297691c0-25ee-4299-a2b1-779042d5e4e6"
      },
      "execution_count": 374,
      "outputs": [
        {
          "output_type": "display_data",
          "data": {
            "text/plain": [
              "<Figure size 432x288 with 1 Axes>"
            ],
            "image/png": "[encoded data removed]"
          },
          "metadata": {
            "needs_background": "light"
          }
        }
      ]
    },
    {
      "cell_type": "markdown",
      "source": [
        "Árvore de decisão"
      ],
      "metadata": {
        "id": "Oo43nLWu3m2r"
      }
    },
    {
      "cell_type": "code",
      "source": [
        "# Criação do modelo\n",
        "\n",
        "tree = DecisionTreeClassifier()\n",
        "tree.fit(x_treino, y_treino)\n",
        "\n",
        "# Classificação\n",
        "Train_predict = tree.predict(x_teste)\n",
        "print(classification_report(y_teste, Train_predict ))\n",
        "\n",
        "# Acurácia\n",
        "resultado = tree.score(x_teste, y_teste)\n",
        "print('Acurácia:', resultado)"
      ],
      "metadata": {
        "colab": {
          "base_uri": "https://localhost:8080/"
        },
        "id": "OaWi0kfzFgJu",
        "outputId": "49372584-477b-4429-f422-c70f517547ba"
      },
      "execution_count": 375,
      "outputs": [
        {
          "output_type": "stream",
          "name": "stdout",
          "text": [
            "              precision    recall  f1-score   support\n",
            "\n",
            "           0       0.62      0.67      0.64      4294\n",
            "           1       0.65      0.59      0.62      4348\n",
            "\n",
            "    accuracy                           0.63      8642\n",
            "   macro avg       0.63      0.63      0.63      8642\n",
            "weighted avg       0.63      0.63      0.63      8642\n",
            "\n",
            "Acurácia: 0.6308724832214765\n"
          ]
        }
      ]
    },
    {
      "cell_type": "code",
      "source": [
        "# Matriz de Confusão - Árvore de decisão\n",
        "\n",
        "fig, ax = plt.subplots()\n",
        "sns.heatmap(confusion_matrix(y_teste, Train_predict), annot=True, \n",
        "            ax=ax, fmt='d', cmap='Reds')\n",
        "ax.set_title(\"Matriz de Confusão - Árvore de decisão\", fontsize=18)\n",
        "ax.set_ylabel(\"True label\")\n",
        "ax.set_xlabel(\"Predicted Label\")\n",
        "plt.tight_layout()"
      ],
      "metadata": {
        "colab": {
          "base_uri": "https://localhost:8080/",
          "height": 297
        },
        "id": "uXNAT-aXF3iT",
        "outputId": "56804b0d-ec03-4ea8-aef5-dce686ea969b"
      },
      "execution_count": 377,
      "outputs": [
        {
          "output_type": "display_data",
          "data": {
            "text/plain": [
              "<Figure size 432x288 with 2 Axes>"
            ],
            "image/png": "[encoded data removed]"
          },
          "metadata": {
            "needs_background": "light"
          }
        }
      ]
    },
    {
      "cell_type": "code",
      "source": [
        "# Curva ROC - Árvore de decisão\n",
        "\n",
        "y_pred_probability = tree.predict_proba(x_teste)[::,1]\n",
        "fpr, tpr, _ = metrics.roc_curve(y_teste,  y_pred_probability)\n",
        "auc = metrics.roc_auc_score(y_teste, y_pred_probability)\n",
        "plt.plot(fpr,tpr,label=\"Tree, auc=\"+str(auc))\n",
        "plt.legend(loc=4)\n",
        "plt.show()"
      ],
      "metadata": {
        "colab": {
          "base_uri": "https://localhost:8080/",
          "height": 265
        },
        "id": "r-6Qzk_8GAms",
        "outputId": "8e282e47-79f1-4c44-a372-d05dbbe2587c"
      },
      "execution_count": 378,
      "outputs": [
        {
          "output_type": "display_data",
          "data": {
            "text/plain": [
              "<Figure size 432x288 with 1 Axes>"
            ],
            "image/png": "[encoded data removed]"
          },
          "metadata": {
            "needs_background": "light"
          }
        }
      ]
    },
    {
      "cell_type": "markdown",
      "source": [
        "Random Forest"
      ],
      "metadata": {
        "id": "CBuJnyn73gks"
      }
    },
    {
      "cell_type": "code",
      "source": [
        "# Criação do modelo\n",
        "\n",
        "random_forest = RandomForestClassifier(random_state= 42)\n",
        "random_forest.fit(x_treino, y_treino)\n",
        "\n",
        "# Classificação\n",
        "Train_predict = random_forest.predict(x_teste)\n",
        "print(classification_report(y_teste, Train_predict))\n",
        "\n",
        "# Acurácia\n",
        "resultado = random_forest.score(x_teste, y_teste)\n",
        "print('Acurácia:', resultado)"
      ],
      "metadata": {
        "colab": {
          "base_uri": "https://localhost:8080/"
        },
        "id": "ADpFJ9E5Joqf",
        "outputId": "d9939b7f-f280-4f90-d775-89ac985a6f06"
      },
      "execution_count": 379,
      "outputs": [
        {
          "output_type": "stream",
          "name": "stdout",
          "text": [
            "              precision    recall  f1-score   support\n",
            "\n",
            "           0       0.68      0.71      0.69      4294\n",
            "           1       0.70      0.68      0.69      4348\n",
            "\n",
            "    accuracy                           0.69      8642\n",
            "   macro avg       0.69      0.69      0.69      8642\n",
            "weighted avg       0.69      0.69      0.69      8642\n",
            "\n",
            "Acurácia: 0.6912751677852349\n"
          ]
        }
      ]
    },
    {
      "cell_type": "code",
      "source": [
        "# Matriz de Confusão - Random Forest\n",
        "\n",
        "fig, ax = plt.subplots()\n",
        "sns.heatmap(confusion_matrix(y_teste, Train_predict), annot=True, \n",
        "            ax=ax, fmt='d', cmap='Reds')\n",
        "ax.set_title(\"Matriz de Confusão - Random Forest\", fontsize=18)\n",
        "ax.set_ylabel(\"True label\")\n",
        "ax.set_xlabel(\"Predicted Label\")\n",
        "plt.tight_layout()"
      ],
      "metadata": {
        "colab": {
          "base_uri": "https://localhost:8080/",
          "height": 297
        },
        "id": "h9JYDICkAR2j",
        "outputId": "bdc6a40f-c1bb-4cbb-b41b-85f86e2d85e7"
      },
      "execution_count": 381,
      "outputs": [
        {
          "output_type": "display_data",
          "data": {
            "text/plain": [
              "<Figure size 432x288 with 2 Axes>"
            ],
            "image/png": "[encoded data removed]"
          },
          "metadata": {
            "needs_background": "light"
          }
        }
      ]
    },
    {
      "cell_type": "code",
      "source": [
        "# Curva ROC - Random Forest\n",
        "\n",
        "y_pred_probability = random_forest.predict_proba(x_teste)[::,1]\n",
        "fpr, tpr, _ = metrics.roc_curve(y_teste,  y_pred_probability)\n",
        "auc = metrics.roc_auc_score(y_teste, y_pred_probability)\n",
        "plt.plot(fpr,tpr,label=\"Random Forest, auc=\"+str(auc))\n",
        "plt.legend(loc=4)\n",
        "plt.show()"
      ],
      "metadata": {
        "colab": {
          "base_uri": "https://localhost:8080/",
          "height": 265
        },
        "id": "n9obqqwO2-fl",
        "outputId": "76832e5e-39df-459d-eabd-b7d3840c9060"
      },
      "execution_count": 382,
      "outputs": [
        {
          "output_type": "display_data",
          "data": {
            "text/plain": [
              "<Figure size 432x288 with 1 Axes>"
            ],
            "image/png": "[encoded data removed]"
          },
          "metadata": {
            "needs_background": "light"
          }
        }
      ]
    }
  ]
}